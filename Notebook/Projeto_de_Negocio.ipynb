{
  "nbformat": 4,
  "nbformat_minor": 0,
  "metadata": {
    "colab": {
      "name": "Projeto_de_Negocio.ipynb",
      "provenance": [],
      "collapsed_sections": [],
      "toc_visible": true,
      "authorship_tag": "ABX9TyObNUkLwfF7uf6Z31We/uts",
      "include_colab_link": true
    },
    "kernelspec": {
      "name": "python3",
      "display_name": "Python 3"
    },
    "language_info": {
      "name": "python"
    }
  },
  "cells": [
    {
      "cell_type": "markdown",
      "metadata": {
        "id": "view-in-github",
        "colab_type": "text"
      },
      "source": [
        "<a href=\"https://colab.research.google.com/github/Raivotar/Projetos_de_Negocio/blob/main/Notebook/Projeto_de_Negocio.ipynb\" target=\"_parent\"><img src=\"https://colab.research.google.com/assets/colab-badge.svg\" alt=\"Open In Colab\"/></a>"
      ]
    },
    {
      "cell_type": "markdown",
      "source": [
        "# Entendendo o Problema:\n",
        "Nesse projeto vamos trabalhar o conjunto de dados \"Credit Card Customers\" da plataforma Kaggle (https://www.kaggle.com/datasets/sakshigoyal7/credit-card-customers)\n",
        "- Gerente do banco está preocupado com a evasão de clientes que usam cartão de crédito.\n",
        "- Nos foi fornecido uma carteira de clientes para fazer um modelo preditivo e aplicar esse modelos em outras carteiras para identificar os clientes propensos a evadir e fazer um contato preventivo a esses clientes."
      ],
      "metadata": {
        "id": "XYdkQ5f7nhjf"
      }
    },
    {
      "cell_type": "markdown",
      "source": [
        "#Exploração dos dados"
      ],
      "metadata": {
        "id": "KstJKMCpTLRc"
      }
    },
    {
      "cell_type": "code",
      "execution_count": null,
      "metadata": {
        "id": "HKHnfByvjobs"
      },
      "outputs": [],
      "source": [
        "import pandas as pd\n",
        "import matplotlib.pyplot as plt\n",
        "import scipy.stats as stats\n",
        "import seaborn as sns\n",
        "from scipy.stats import ranksums\n",
        "import matplotlib.pyplot as plt\n",
        "import numpy as np"
      ]
    },
    {
      "cell_type": "code",
      "source": [
        "data = pd.read_csv(\"https://raw.githubusercontent.com/Raivotar/Projetos_de_Negocio/main/Dados/BankChurners.csv\")"
      ],
      "metadata": {
        "id": "fzCc3wjNjr1B"
      },
      "execution_count": null,
      "outputs": []
    },
    {
      "cell_type": "code",
      "source": [
        "data.columns"
      ],
      "metadata": {
        "colab": {
          "base_uri": "https://localhost:8080/"
        },
        "id": "Z3CwHHuzj7vd",
        "outputId": "383d208b-0582-4ee7-fba9-c3ccc0346764"
      },
      "execution_count": null,
      "outputs": [
        {
          "output_type": "execute_result",
          "data": {
            "text/plain": [
              "Index(['CLIENTNUM', 'Attrition_Flag', 'Customer_Age', 'Gender',\n",
              "       'Dependent_count', 'Education_Level', 'Marital_Status',\n",
              "       'Income_Category', 'Card_Category', 'Months_on_book',\n",
              "       'Total_Relationship_Count', 'Months_Inactive_12_mon',\n",
              "       'Contacts_Count_12_mon', 'Credit_Limit', 'Total_Revolving_Bal',\n",
              "       'Avg_Open_To_Buy', 'Total_Amt_Chng_Q4_Q1', 'Total_Trans_Amt',\n",
              "       'Total_Trans_Ct', 'Total_Ct_Chng_Q4_Q1', 'Avg_Utilization_Ratio',\n",
              "       'Naive_Bayes_Classifier_Attrition_Flag_Card_Category_Contacts_Count_12_mon_Dependent_count_Education_Level_Months_Inactive_12_mon_1',\n",
              "       'Naive_Bayes_Classifier_Attrition_Flag_Card_Category_Contacts_Count_12_mon_Dependent_count_Education_Level_Months_Inactive_12_mon_2'],\n",
              "      dtype='object')"
            ]
          },
          "metadata": {},
          "execution_count": 3
        }
      ]
    },
    {
      "cell_type": "markdown",
      "source": [
        "Na documentação do banco de dados é informado para desconsiderar as duas colunas que estamos excluindo."
      ],
      "metadata": {
        "id": "w9GUZg-4TInZ"
      }
    },
    {
      "cell_type": "code",
      "source": [
        "data.drop(['Naive_Bayes_Classifier_Attrition_Flag_Card_Category_Contacts_Count_12_mon_Dependent_count_Education_Level_Months_Inactive_12_mon_1',\n",
        "           'Naive_Bayes_Classifier_Attrition_Flag_Card_Category_Contacts_Count_12_mon_Dependent_count_Education_Level_Months_Inactive_12_mon_2'],\n",
        "          axis=1, inplace=True)"
      ],
      "metadata": {
        "id": "OG6gHptvkHQK"
      },
      "execution_count": null,
      "outputs": []
    },
    {
      "cell_type": "markdown",
      "source": [
        "Não há valores nulos"
      ],
      "metadata": {
        "id": "nCF1RhrZT_K3"
      }
    },
    {
      "cell_type": "code",
      "source": [
        "data.isna().sum()"
      ],
      "metadata": {
        "colab": {
          "base_uri": "https://localhost:8080/"
        },
        "id": "ZQ_2MopukSUv",
        "outputId": "f38f7f94-a255-4c02-adc7-280d9347e90a"
      },
      "execution_count": null,
      "outputs": [
        {
          "output_type": "execute_result",
          "data": {
            "text/plain": [
              "CLIENTNUM                   0\n",
              "Attrition_Flag              0\n",
              "Customer_Age                0\n",
              "Gender                      0\n",
              "Dependent_count             0\n",
              "Education_Level             0\n",
              "Marital_Status              0\n",
              "Income_Category             0\n",
              "Card_Category               0\n",
              "Months_on_book              0\n",
              "Total_Relationship_Count    0\n",
              "Months_Inactive_12_mon      0\n",
              "Contacts_Count_12_mon       0\n",
              "Credit_Limit                0\n",
              "Total_Revolving_Bal         0\n",
              "Avg_Open_To_Buy             0\n",
              "Total_Amt_Chng_Q4_Q1        0\n",
              "Total_Trans_Amt             0\n",
              "Total_Trans_Ct              0\n",
              "Total_Ct_Chng_Q4_Q1         0\n",
              "Avg_Utilization_Ratio       0\n",
              "dtype: int64"
            ]
          },
          "metadata": {},
          "execution_count": 5
        }
      ]
    },
    {
      "cell_type": "markdown",
      "source": [
        "Visão geral dos dados"
      ],
      "metadata": {
        "id": "4c0z58rOUP7l"
      }
    },
    {
      "cell_type": "code",
      "source": [
        "data.set_index(\"CLIENTNUM\", inplace=True)\n",
        "data.head()"
      ],
      "metadata": {
        "colab": {
          "base_uri": "https://localhost:8080/",
          "height": 388
        },
        "id": "kBTFpGP1kUc9",
        "outputId": "29892314-924d-46ca-b38f-1870625c7e64"
      },
      "execution_count": null,
      "outputs": [
        {
          "output_type": "execute_result",
          "data": {
            "text/plain": [
              "              Attrition_Flag  Customer_Age Gender  Dependent_count  \\\n",
              "CLIENTNUM                                                            \n",
              "768805383  Existing Customer            45      M                3   \n",
              "818770008  Existing Customer            49      F                5   \n",
              "713982108  Existing Customer            51      M                3   \n",
              "769911858  Existing Customer            40      F                4   \n",
              "709106358  Existing Customer            40      M                3   \n",
              "\n",
              "          Education_Level Marital_Status Income_Category Card_Category  \\\n",
              "CLIENTNUM                                                                \n",
              "768805383     High School        Married     $60K - $80K          Blue   \n",
              "818770008        Graduate         Single  Less than $40K          Blue   \n",
              "713982108        Graduate        Married    $80K - $120K          Blue   \n",
              "769911858     High School        Unknown  Less than $40K          Blue   \n",
              "709106358      Uneducated        Married     $60K - $80K          Blue   \n",
              "\n",
              "           Months_on_book  Total_Relationship_Count  Months_Inactive_12_mon  \\\n",
              "CLIENTNUM                                                                     \n",
              "768805383              39                         5                       1   \n",
              "818770008              44                         6                       1   \n",
              "713982108              36                         4                       1   \n",
              "769911858              34                         3                       4   \n",
              "709106358              21                         5                       1   \n",
              "\n",
              "           Contacts_Count_12_mon  Credit_Limit  Total_Revolving_Bal  \\\n",
              "CLIENTNUM                                                             \n",
              "768805383                      3       12691.0                  777   \n",
              "818770008                      2        8256.0                  864   \n",
              "713982108                      0        3418.0                    0   \n",
              "769911858                      1        3313.0                 2517   \n",
              "709106358                      0        4716.0                    0   \n",
              "\n",
              "           Avg_Open_To_Buy  Total_Amt_Chng_Q4_Q1  Total_Trans_Amt  \\\n",
              "CLIENTNUM                                                           \n",
              "768805383          11914.0                 1.335             1144   \n",
              "818770008           7392.0                 1.541             1291   \n",
              "713982108           3418.0                 2.594             1887   \n",
              "769911858            796.0                 1.405             1171   \n",
              "709106358           4716.0                 2.175              816   \n",
              "\n",
              "           Total_Trans_Ct  Total_Ct_Chng_Q4_Q1  Avg_Utilization_Ratio  \n",
              "CLIENTNUM                                                              \n",
              "768805383              42                1.625                  0.061  \n",
              "818770008              33                3.714                  0.105  \n",
              "713982108              20                2.333                  0.000  \n",
              "769911858              20                2.333                  0.760  \n",
              "709106358              28                2.500                  0.000  "
            ],
            "text/html": [
              "\n",
              "  <div id=\"df-1d41d715-db42-4a43-aa78-1e05b9366650\">\n",
              "    <div class=\"colab-df-container\">\n",
              "      <div>\n",
              "<style scoped>\n",
              "    .dataframe tbody tr th:only-of-type {\n",
              "        vertical-align: middle;\n",
              "    }\n",
              "\n",
              "    .dataframe tbody tr th {\n",
              "        vertical-align: top;\n",
              "    }\n",
              "\n",
              "    .dataframe thead th {\n",
              "        text-align: right;\n",
              "    }\n",
              "</style>\n",
              "<table border=\"1\" class=\"dataframe\">\n",
              "  <thead>\n",
              "    <tr style=\"text-align: right;\">\n",
              "      <th></th>\n",
              "      <th>Attrition_Flag</th>\n",
              "      <th>Customer_Age</th>\n",
              "      <th>Gender</th>\n",
              "      <th>Dependent_count</th>\n",
              "      <th>Education_Level</th>\n",
              "      <th>Marital_Status</th>\n",
              "      <th>Income_Category</th>\n",
              "      <th>Card_Category</th>\n",
              "      <th>Months_on_book</th>\n",
              "      <th>Total_Relationship_Count</th>\n",
              "      <th>Months_Inactive_12_mon</th>\n",
              "      <th>Contacts_Count_12_mon</th>\n",
              "      <th>Credit_Limit</th>\n",
              "      <th>Total_Revolving_Bal</th>\n",
              "      <th>Avg_Open_To_Buy</th>\n",
              "      <th>Total_Amt_Chng_Q4_Q1</th>\n",
              "      <th>Total_Trans_Amt</th>\n",
              "      <th>Total_Trans_Ct</th>\n",
              "      <th>Total_Ct_Chng_Q4_Q1</th>\n",
              "      <th>Avg_Utilization_Ratio</th>\n",
              "    </tr>\n",
              "    <tr>\n",
              "      <th>CLIENTNUM</th>\n",
              "      <th></th>\n",
              "      <th></th>\n",
              "      <th></th>\n",
              "      <th></th>\n",
              "      <th></th>\n",
              "      <th></th>\n",
              "      <th></th>\n",
              "      <th></th>\n",
              "      <th></th>\n",
              "      <th></th>\n",
              "      <th></th>\n",
              "      <th></th>\n",
              "      <th></th>\n",
              "      <th></th>\n",
              "      <th></th>\n",
              "      <th></th>\n",
              "      <th></th>\n",
              "      <th></th>\n",
              "      <th></th>\n",
              "      <th></th>\n",
              "    </tr>\n",
              "  </thead>\n",
              "  <tbody>\n",
              "    <tr>\n",
              "      <th>768805383</th>\n",
              "      <td>Existing Customer</td>\n",
              "      <td>45</td>\n",
              "      <td>M</td>\n",
              "      <td>3</td>\n",
              "      <td>High School</td>\n",
              "      <td>Married</td>\n",
              "      <td>$60K - $80K</td>\n",
              "      <td>Blue</td>\n",
              "      <td>39</td>\n",
              "      <td>5</td>\n",
              "      <td>1</td>\n",
              "      <td>3</td>\n",
              "      <td>12691.0</td>\n",
              "      <td>777</td>\n",
              "      <td>11914.0</td>\n",
              "      <td>1.335</td>\n",
              "      <td>1144</td>\n",
              "      <td>42</td>\n",
              "      <td>1.625</td>\n",
              "      <td>0.061</td>\n",
              "    </tr>\n",
              "    <tr>\n",
              "      <th>818770008</th>\n",
              "      <td>Existing Customer</td>\n",
              "      <td>49</td>\n",
              "      <td>F</td>\n",
              "      <td>5</td>\n",
              "      <td>Graduate</td>\n",
              "      <td>Single</td>\n",
              "      <td>Less than $40K</td>\n",
              "      <td>Blue</td>\n",
              "      <td>44</td>\n",
              "      <td>6</td>\n",
              "      <td>1</td>\n",
              "      <td>2</td>\n",
              "      <td>8256.0</td>\n",
              "      <td>864</td>\n",
              "      <td>7392.0</td>\n",
              "      <td>1.541</td>\n",
              "      <td>1291</td>\n",
              "      <td>33</td>\n",
              "      <td>3.714</td>\n",
              "      <td>0.105</td>\n",
              "    </tr>\n",
              "    <tr>\n",
              "      <th>713982108</th>\n",
              "      <td>Existing Customer</td>\n",
              "      <td>51</td>\n",
              "      <td>M</td>\n",
              "      <td>3</td>\n",
              "      <td>Graduate</td>\n",
              "      <td>Married</td>\n",
              "      <td>$80K - $120K</td>\n",
              "      <td>Blue</td>\n",
              "      <td>36</td>\n",
              "      <td>4</td>\n",
              "      <td>1</td>\n",
              "      <td>0</td>\n",
              "      <td>3418.0</td>\n",
              "      <td>0</td>\n",
              "      <td>3418.0</td>\n",
              "      <td>2.594</td>\n",
              "      <td>1887</td>\n",
              "      <td>20</td>\n",
              "      <td>2.333</td>\n",
              "      <td>0.000</td>\n",
              "    </tr>\n",
              "    <tr>\n",
              "      <th>769911858</th>\n",
              "      <td>Existing Customer</td>\n",
              "      <td>40</td>\n",
              "      <td>F</td>\n",
              "      <td>4</td>\n",
              "      <td>High School</td>\n",
              "      <td>Unknown</td>\n",
              "      <td>Less than $40K</td>\n",
              "      <td>Blue</td>\n",
              "      <td>34</td>\n",
              "      <td>3</td>\n",
              "      <td>4</td>\n",
              "      <td>1</td>\n",
              "      <td>3313.0</td>\n",
              "      <td>2517</td>\n",
              "      <td>796.0</td>\n",
              "      <td>1.405</td>\n",
              "      <td>1171</td>\n",
              "      <td>20</td>\n",
              "      <td>2.333</td>\n",
              "      <td>0.760</td>\n",
              "    </tr>\n",
              "    <tr>\n",
              "      <th>709106358</th>\n",
              "      <td>Existing Customer</td>\n",
              "      <td>40</td>\n",
              "      <td>M</td>\n",
              "      <td>3</td>\n",
              "      <td>Uneducated</td>\n",
              "      <td>Married</td>\n",
              "      <td>$60K - $80K</td>\n",
              "      <td>Blue</td>\n",
              "      <td>21</td>\n",
              "      <td>5</td>\n",
              "      <td>1</td>\n",
              "      <td>0</td>\n",
              "      <td>4716.0</td>\n",
              "      <td>0</td>\n",
              "      <td>4716.0</td>\n",
              "      <td>2.175</td>\n",
              "      <td>816</td>\n",
              "      <td>28</td>\n",
              "      <td>2.500</td>\n",
              "      <td>0.000</td>\n",
              "    </tr>\n",
              "  </tbody>\n",
              "</table>\n",
              "</div>\n",
              "      <button class=\"colab-df-convert\" onclick=\"convertToInteractive('df-1d41d715-db42-4a43-aa78-1e05b9366650')\"\n",
              "              title=\"Convert this dataframe to an interactive table.\"\n",
              "              style=\"display:none;\">\n",
              "        \n",
              "  <svg xmlns=\"http://www.w3.org/2000/svg\" height=\"24px\"viewBox=\"0 0 24 24\"\n",
              "       width=\"24px\">\n",
              "    <path d=\"M0 0h24v24H0V0z\" fill=\"none\"/>\n",
              "    <path d=\"M18.56 5.44l.94 2.06.94-2.06 2.06-.94-2.06-.94-.94-2.06-.94 2.06-2.06.94zm-11 1L8.5 8.5l.94-2.06 2.06-.94-2.06-.94L8.5 2.5l-.94 2.06-2.06.94zm10 10l.94 2.06.94-2.06 2.06-.94-2.06-.94-.94-2.06-.94 2.06-2.06.94z\"/><path d=\"M17.41 7.96l-1.37-1.37c-.4-.4-.92-.59-1.43-.59-.52 0-1.04.2-1.43.59L10.3 9.45l-7.72 7.72c-.78.78-.78 2.05 0 2.83L4 21.41c.39.39.9.59 1.41.59.51 0 1.02-.2 1.41-.59l7.78-7.78 2.81-2.81c.8-.78.8-2.07 0-2.86zM5.41 20L4 18.59l7.72-7.72 1.47 1.35L5.41 20z\"/>\n",
              "  </svg>\n",
              "      </button>\n",
              "      \n",
              "  <style>\n",
              "    .colab-df-container {\n",
              "      display:flex;\n",
              "      flex-wrap:wrap;\n",
              "      gap: 12px;\n",
              "    }\n",
              "\n",
              "    .colab-df-convert {\n",
              "      background-color: #E8F0FE;\n",
              "      border: none;\n",
              "      border-radius: 50%;\n",
              "      cursor: pointer;\n",
              "      display: none;\n",
              "      fill: #1967D2;\n",
              "      height: 32px;\n",
              "      padding: 0 0 0 0;\n",
              "      width: 32px;\n",
              "    }\n",
              "\n",
              "    .colab-df-convert:hover {\n",
              "      background-color: #E2EBFA;\n",
              "      box-shadow: 0px 1px 2px rgba(60, 64, 67, 0.3), 0px 1px 3px 1px rgba(60, 64, 67, 0.15);\n",
              "      fill: #174EA6;\n",
              "    }\n",
              "\n",
              "    [theme=dark] .colab-df-convert {\n",
              "      background-color: #3B4455;\n",
              "      fill: #D2E3FC;\n",
              "    }\n",
              "\n",
              "    [theme=dark] .colab-df-convert:hover {\n",
              "      background-color: #434B5C;\n",
              "      box-shadow: 0px 1px 3px 1px rgba(0, 0, 0, 0.15);\n",
              "      filter: drop-shadow(0px 1px 2px rgba(0, 0, 0, 0.3));\n",
              "      fill: #FFFFFF;\n",
              "    }\n",
              "  </style>\n",
              "\n",
              "      <script>\n",
              "        const buttonEl =\n",
              "          document.querySelector('#df-1d41d715-db42-4a43-aa78-1e05b9366650 button.colab-df-convert');\n",
              "        buttonEl.style.display =\n",
              "          google.colab.kernel.accessAllowed ? 'block' : 'none';\n",
              "\n",
              "        async function convertToInteractive(key) {\n",
              "          const element = document.querySelector('#df-1d41d715-db42-4a43-aa78-1e05b9366650');\n",
              "          const dataTable =\n",
              "            await google.colab.kernel.invokeFunction('convertToInteractive',\n",
              "                                                     [key], {});\n",
              "          if (!dataTable) return;\n",
              "\n",
              "          const docLinkHtml = 'Like what you see? Visit the ' +\n",
              "            '<a target=\"_blank\" href=https://colab.research.google.com/notebooks/data_table.ipynb>data table notebook</a>'\n",
              "            + ' to learn more about interactive tables.';\n",
              "          element.innerHTML = '';\n",
              "          dataTable['output_type'] = 'display_data';\n",
              "          await google.colab.output.renderOutput(dataTable, element);\n",
              "          const docLink = document.createElement('div');\n",
              "          docLink.innerHTML = docLinkHtml;\n",
              "          element.appendChild(docLink);\n",
              "        }\n",
              "      </script>\n",
              "    </div>\n",
              "  </div>\n",
              "  "
            ]
          },
          "metadata": {},
          "execution_count": 6
        }
      ]
    },
    {
      "cell_type": "markdown",
      "source": [
        "## Definição do target\n",
        "A variavel \"Attrition_Flag\" é nosso target, onde verificamos 8500 clientes ativos e 1627 que evadiram, portanto nosso trabalho visa encontrar desses 8500 clientes, quais estão propensos a evadir.\n",
        "A principio vamos tratar esse problema como Classificação de uma variavel binária"
      ],
      "metadata": {
        "id": "Jz1LhkcbUTWj"
      }
    },
    {
      "cell_type": "code",
      "source": [
        "data[\"Attrition_Flag\"].value_counts()"
      ],
      "metadata": {
        "colab": {
          "base_uri": "https://localhost:8080/"
        },
        "id": "xgtG7eDllo-u",
        "outputId": "0f2edcea-7013-465b-fb3c-5b5695143639"
      },
      "execution_count": null,
      "outputs": [
        {
          "output_type": "execute_result",
          "data": {
            "text/plain": [
              "Existing Customer    8500\n",
              "Attrited Customer    1627\n",
              "Name: Attrition_Flag, dtype: int64"
            ]
          },
          "metadata": {},
          "execution_count": 7
        }
      ]
    },
    {
      "cell_type": "code",
      "source": [
        "data.shape"
      ],
      "metadata": {
        "colab": {
          "base_uri": "https://localhost:8080/"
        },
        "id": "MwH-7wFcl1Sh",
        "outputId": "90366a40-7234-41ee-cd80-1c7bd094636a"
      },
      "execution_count": null,
      "outputs": [
        {
          "output_type": "execute_result",
          "data": {
            "text/plain": [
              "(10127, 20)"
            ]
          },
          "metadata": {},
          "execution_count": 8
        }
      ]
    },
    {
      "cell_type": "code",
      "source": [
        "data['Attrition_Flag'].unique()"
      ],
      "metadata": {
        "colab": {
          "base_uri": "https://localhost:8080/"
        },
        "id": "MyA1lMZ71bTF",
        "outputId": "a3c0e1e0-cca1-48d3-a1c1-c6e622159682"
      },
      "execution_count": null,
      "outputs": [
        {
          "output_type": "execute_result",
          "data": {
            "text/plain": [
              "array(['Existing Customer', 'Attrited Customer'], dtype=object)"
            ]
          },
          "metadata": {},
          "execution_count": 9
        }
      ]
    },
    {
      "cell_type": "code",
      "source": [
        "rename = {\n",
        "    'Existing Customer': 1,\n",
        "    'Attrited Customer': 0\n",
        "}\n",
        "data[\"Attrition_Flag\"] = data[\"Attrition_Flag\"].map(rename)"
      ],
      "metadata": {
        "id": "Mup-hHNY5QTs"
      },
      "execution_count": null,
      "outputs": []
    },
    {
      "cell_type": "markdown",
      "source": [
        "## Identificação de variáveis categóricas e numéricas\n",
        "\n",
        "Estamos usando a estratégia de identificar as variáveis que são do tipo objeto para classifica-las como categoricas."
      ],
      "metadata": {
        "id": "0qgvaPlaIna4"
      }
    },
    {
      "cell_type": "code",
      "source": [
        "cat_vars = [var for var in data.columns \n",
        "            if data[var].dtype == 'O' and var != 'Attrition_Flag']\n",
        "\n",
        "num_vars = [var for var in data.columns\n",
        "           if data[var].dtype != 'O' and var != 'Attrition_Flag']\n",
        "\n",
        "print(f'Número de variáveis categóricas: {len(cat_vars)}')\n",
        "print(f'Número de variáveis numéricas: {len(num_vars)}')"
      ],
      "metadata": {
        "colab": {
          "base_uri": "https://localhost:8080/"
        },
        "id": "wKbBFf9JIsbd",
        "outputId": "f167f3fd-e110-4f53-ca20-11642a7c62e8"
      },
      "execution_count": null,
      "outputs": [
        {
          "output_type": "stream",
          "name": "stdout",
          "text": [
            "Número de variáveis categóricas: 5\n",
            "Número de variáveis numéricas: 14\n"
          ]
        }
      ]
    },
    {
      "cell_type": "markdown",
      "source": [
        "### Variáveis numéricas"
      ],
      "metadata": {
        "id": "PaY-vEFQNFMr"
      }
    },
    {
      "cell_type": "code",
      "source": [
        "num_vars"
      ],
      "metadata": {
        "colab": {
          "base_uri": "https://localhost:8080/"
        },
        "id": "cRR14JFOJqvp",
        "outputId": "87c2e19a-13e4-4816-9bb8-443559144707"
      },
      "execution_count": null,
      "outputs": [
        {
          "output_type": "execute_result",
          "data": {
            "text/plain": [
              "['Customer_Age',\n",
              " 'Dependent_count',\n",
              " 'Months_on_book',\n",
              " 'Total_Relationship_Count',\n",
              " 'Months_Inactive_12_mon',\n",
              " 'Contacts_Count_12_mon',\n",
              " 'Credit_Limit',\n",
              " 'Total_Revolving_Bal',\n",
              " 'Avg_Open_To_Buy',\n",
              " 'Total_Amt_Chng_Q4_Q1',\n",
              " 'Total_Trans_Amt',\n",
              " 'Total_Trans_Ct',\n",
              " 'Total_Ct_Chng_Q4_Q1',\n",
              " 'Avg_Utilization_Ratio']"
            ]
          },
          "metadata": {},
          "execution_count": 12
        }
      ]
    },
    {
      "cell_type": "code",
      "source": [
        "data[num_vars].describe()"
      ],
      "metadata": {
        "colab": {
          "base_uri": "https://localhost:8080/",
          "height": 364
        },
        "id": "WePAZSUWXD_o",
        "outputId": "a2e43b81-1e24-4ecb-eeca-011d14b83b4d"
      },
      "execution_count": null,
      "outputs": [
        {
          "output_type": "execute_result",
          "data": {
            "text/plain": [
              "       Customer_Age  Dependent_count  Months_on_book  \\\n",
              "count  10127.000000     10127.000000    10127.000000   \n",
              "mean      46.325960         2.346203       35.928409   \n",
              "std        8.016814         1.298908        7.986416   \n",
              "min       26.000000         0.000000       13.000000   \n",
              "25%       41.000000         1.000000       31.000000   \n",
              "50%       46.000000         2.000000       36.000000   \n",
              "75%       52.000000         3.000000       40.000000   \n",
              "max       73.000000         5.000000       56.000000   \n",
              "\n",
              "       Total_Relationship_Count  Months_Inactive_12_mon  \\\n",
              "count              10127.000000            10127.000000   \n",
              "mean                   3.812580                2.341167   \n",
              "std                    1.554408                1.010622   \n",
              "min                    1.000000                0.000000   \n",
              "25%                    3.000000                2.000000   \n",
              "50%                    4.000000                2.000000   \n",
              "75%                    5.000000                3.000000   \n",
              "max                    6.000000                6.000000   \n",
              "\n",
              "       Contacts_Count_12_mon  Credit_Limit  Total_Revolving_Bal  \\\n",
              "count           10127.000000  10127.000000         10127.000000   \n",
              "mean                2.455317   8631.953698          1162.814061   \n",
              "std                 1.106225   9088.776650           814.987335   \n",
              "min                 0.000000   1438.300000             0.000000   \n",
              "25%                 2.000000   2555.000000           359.000000   \n",
              "50%                 2.000000   4549.000000          1276.000000   \n",
              "75%                 3.000000  11067.500000          1784.000000   \n",
              "max                 6.000000  34516.000000          2517.000000   \n",
              "\n",
              "       Avg_Open_To_Buy  Total_Amt_Chng_Q4_Q1  Total_Trans_Amt  Total_Trans_Ct  \\\n",
              "count     10127.000000          10127.000000     10127.000000    10127.000000   \n",
              "mean       7469.139637              0.759941      4404.086304       64.858695   \n",
              "std        9090.685324              0.219207      3397.129254       23.472570   \n",
              "min           3.000000              0.000000       510.000000       10.000000   \n",
              "25%        1324.500000              0.631000      2155.500000       45.000000   \n",
              "50%        3474.000000              0.736000      3899.000000       67.000000   \n",
              "75%        9859.000000              0.859000      4741.000000       81.000000   \n",
              "max       34516.000000              3.397000     18484.000000      139.000000   \n",
              "\n",
              "       Total_Ct_Chng_Q4_Q1  Avg_Utilization_Ratio  \n",
              "count         10127.000000           10127.000000  \n",
              "mean              0.712222               0.274894  \n",
              "std               0.238086               0.275691  \n",
              "min               0.000000               0.000000  \n",
              "25%               0.582000               0.023000  \n",
              "50%               0.702000               0.176000  \n",
              "75%               0.818000               0.503000  \n",
              "max               3.714000               0.999000  "
            ],
            "text/html": [
              "\n",
              "  <div id=\"df-30395559-b7f9-4d11-995f-cf7c529da9b7\">\n",
              "    <div class=\"colab-df-container\">\n",
              "      <div>\n",
              "<style scoped>\n",
              "    .dataframe tbody tr th:only-of-type {\n",
              "        vertical-align: middle;\n",
              "    }\n",
              "\n",
              "    .dataframe tbody tr th {\n",
              "        vertical-align: top;\n",
              "    }\n",
              "\n",
              "    .dataframe thead th {\n",
              "        text-align: right;\n",
              "    }\n",
              "</style>\n",
              "<table border=\"1\" class=\"dataframe\">\n",
              "  <thead>\n",
              "    <tr style=\"text-align: right;\">\n",
              "      <th></th>\n",
              "      <th>Customer_Age</th>\n",
              "      <th>Dependent_count</th>\n",
              "      <th>Months_on_book</th>\n",
              "      <th>Total_Relationship_Count</th>\n",
              "      <th>Months_Inactive_12_mon</th>\n",
              "      <th>Contacts_Count_12_mon</th>\n",
              "      <th>Credit_Limit</th>\n",
              "      <th>Total_Revolving_Bal</th>\n",
              "      <th>Avg_Open_To_Buy</th>\n",
              "      <th>Total_Amt_Chng_Q4_Q1</th>\n",
              "      <th>Total_Trans_Amt</th>\n",
              "      <th>Total_Trans_Ct</th>\n",
              "      <th>Total_Ct_Chng_Q4_Q1</th>\n",
              "      <th>Avg_Utilization_Ratio</th>\n",
              "    </tr>\n",
              "  </thead>\n",
              "  <tbody>\n",
              "    <tr>\n",
              "      <th>count</th>\n",
              "      <td>10127.000000</td>\n",
              "      <td>10127.000000</td>\n",
              "      <td>10127.000000</td>\n",
              "      <td>10127.000000</td>\n",
              "      <td>10127.000000</td>\n",
              "      <td>10127.000000</td>\n",
              "      <td>10127.000000</td>\n",
              "      <td>10127.000000</td>\n",
              "      <td>10127.000000</td>\n",
              "      <td>10127.000000</td>\n",
              "      <td>10127.000000</td>\n",
              "      <td>10127.000000</td>\n",
              "      <td>10127.000000</td>\n",
              "      <td>10127.000000</td>\n",
              "    </tr>\n",
              "    <tr>\n",
              "      <th>mean</th>\n",
              "      <td>46.325960</td>\n",
              "      <td>2.346203</td>\n",
              "      <td>35.928409</td>\n",
              "      <td>3.812580</td>\n",
              "      <td>2.341167</td>\n",
              "      <td>2.455317</td>\n",
              "      <td>8631.953698</td>\n",
              "      <td>1162.814061</td>\n",
              "      <td>7469.139637</td>\n",
              "      <td>0.759941</td>\n",
              "      <td>4404.086304</td>\n",
              "      <td>64.858695</td>\n",
              "      <td>0.712222</td>\n",
              "      <td>0.274894</td>\n",
              "    </tr>\n",
              "    <tr>\n",
              "      <th>std</th>\n",
              "      <td>8.016814</td>\n",
              "      <td>1.298908</td>\n",
              "      <td>7.986416</td>\n",
              "      <td>1.554408</td>\n",
              "      <td>1.010622</td>\n",
              "      <td>1.106225</td>\n",
              "      <td>9088.776650</td>\n",
              "      <td>814.987335</td>\n",
              "      <td>9090.685324</td>\n",
              "      <td>0.219207</td>\n",
              "      <td>3397.129254</td>\n",
              "      <td>23.472570</td>\n",
              "      <td>0.238086</td>\n",
              "      <td>0.275691</td>\n",
              "    </tr>\n",
              "    <tr>\n",
              "      <th>min</th>\n",
              "      <td>26.000000</td>\n",
              "      <td>0.000000</td>\n",
              "      <td>13.000000</td>\n",
              "      <td>1.000000</td>\n",
              "      <td>0.000000</td>\n",
              "      <td>0.000000</td>\n",
              "      <td>1438.300000</td>\n",
              "      <td>0.000000</td>\n",
              "      <td>3.000000</td>\n",
              "      <td>0.000000</td>\n",
              "      <td>510.000000</td>\n",
              "      <td>10.000000</td>\n",
              "      <td>0.000000</td>\n",
              "      <td>0.000000</td>\n",
              "    </tr>\n",
              "    <tr>\n",
              "      <th>25%</th>\n",
              "      <td>41.000000</td>\n",
              "      <td>1.000000</td>\n",
              "      <td>31.000000</td>\n",
              "      <td>3.000000</td>\n",
              "      <td>2.000000</td>\n",
              "      <td>2.000000</td>\n",
              "      <td>2555.000000</td>\n",
              "      <td>359.000000</td>\n",
              "      <td>1324.500000</td>\n",
              "      <td>0.631000</td>\n",
              "      <td>2155.500000</td>\n",
              "      <td>45.000000</td>\n",
              "      <td>0.582000</td>\n",
              "      <td>0.023000</td>\n",
              "    </tr>\n",
              "    <tr>\n",
              "      <th>50%</th>\n",
              "      <td>46.000000</td>\n",
              "      <td>2.000000</td>\n",
              "      <td>36.000000</td>\n",
              "      <td>4.000000</td>\n",
              "      <td>2.000000</td>\n",
              "      <td>2.000000</td>\n",
              "      <td>4549.000000</td>\n",
              "      <td>1276.000000</td>\n",
              "      <td>3474.000000</td>\n",
              "      <td>0.736000</td>\n",
              "      <td>3899.000000</td>\n",
              "      <td>67.000000</td>\n",
              "      <td>0.702000</td>\n",
              "      <td>0.176000</td>\n",
              "    </tr>\n",
              "    <tr>\n",
              "      <th>75%</th>\n",
              "      <td>52.000000</td>\n",
              "      <td>3.000000</td>\n",
              "      <td>40.000000</td>\n",
              "      <td>5.000000</td>\n",
              "      <td>3.000000</td>\n",
              "      <td>3.000000</td>\n",
              "      <td>11067.500000</td>\n",
              "      <td>1784.000000</td>\n",
              "      <td>9859.000000</td>\n",
              "      <td>0.859000</td>\n",
              "      <td>4741.000000</td>\n",
              "      <td>81.000000</td>\n",
              "      <td>0.818000</td>\n",
              "      <td>0.503000</td>\n",
              "    </tr>\n",
              "    <tr>\n",
              "      <th>max</th>\n",
              "      <td>73.000000</td>\n",
              "      <td>5.000000</td>\n",
              "      <td>56.000000</td>\n",
              "      <td>6.000000</td>\n",
              "      <td>6.000000</td>\n",
              "      <td>6.000000</td>\n",
              "      <td>34516.000000</td>\n",
              "      <td>2517.000000</td>\n",
              "      <td>34516.000000</td>\n",
              "      <td>3.397000</td>\n",
              "      <td>18484.000000</td>\n",
              "      <td>139.000000</td>\n",
              "      <td>3.714000</td>\n",
              "      <td>0.999000</td>\n",
              "    </tr>\n",
              "  </tbody>\n",
              "</table>\n",
              "</div>\n",
              "      <button class=\"colab-df-convert\" onclick=\"convertToInteractive('df-30395559-b7f9-4d11-995f-cf7c529da9b7')\"\n",
              "              title=\"Convert this dataframe to an interactive table.\"\n",
              "              style=\"display:none;\">\n",
              "        \n",
              "  <svg xmlns=\"http://www.w3.org/2000/svg\" height=\"24px\"viewBox=\"0 0 24 24\"\n",
              "       width=\"24px\">\n",
              "    <path d=\"M0 0h24v24H0V0z\" fill=\"none\"/>\n",
              "    <path d=\"M18.56 5.44l.94 2.06.94-2.06 2.06-.94-2.06-.94-.94-2.06-.94 2.06-2.06.94zm-11 1L8.5 8.5l.94-2.06 2.06-.94-2.06-.94L8.5 2.5l-.94 2.06-2.06.94zm10 10l.94 2.06.94-2.06 2.06-.94-2.06-.94-.94-2.06-.94 2.06-2.06.94z\"/><path d=\"M17.41 7.96l-1.37-1.37c-.4-.4-.92-.59-1.43-.59-.52 0-1.04.2-1.43.59L10.3 9.45l-7.72 7.72c-.78.78-.78 2.05 0 2.83L4 21.41c.39.39.9.59 1.41.59.51 0 1.02-.2 1.41-.59l7.78-7.78 2.81-2.81c.8-.78.8-2.07 0-2.86zM5.41 20L4 18.59l7.72-7.72 1.47 1.35L5.41 20z\"/>\n",
              "  </svg>\n",
              "      </button>\n",
              "      \n",
              "  <style>\n",
              "    .colab-df-container {\n",
              "      display:flex;\n",
              "      flex-wrap:wrap;\n",
              "      gap: 12px;\n",
              "    }\n",
              "\n",
              "    .colab-df-convert {\n",
              "      background-color: #E8F0FE;\n",
              "      border: none;\n",
              "      border-radius: 50%;\n",
              "      cursor: pointer;\n",
              "      display: none;\n",
              "      fill: #1967D2;\n",
              "      height: 32px;\n",
              "      padding: 0 0 0 0;\n",
              "      width: 32px;\n",
              "    }\n",
              "\n",
              "    .colab-df-convert:hover {\n",
              "      background-color: #E2EBFA;\n",
              "      box-shadow: 0px 1px 2px rgba(60, 64, 67, 0.3), 0px 1px 3px 1px rgba(60, 64, 67, 0.15);\n",
              "      fill: #174EA6;\n",
              "    }\n",
              "\n",
              "    [theme=dark] .colab-df-convert {\n",
              "      background-color: #3B4455;\n",
              "      fill: #D2E3FC;\n",
              "    }\n",
              "\n",
              "    [theme=dark] .colab-df-convert:hover {\n",
              "      background-color: #434B5C;\n",
              "      box-shadow: 0px 1px 3px 1px rgba(0, 0, 0, 0.15);\n",
              "      filter: drop-shadow(0px 1px 2px rgba(0, 0, 0, 0.3));\n",
              "      fill: #FFFFFF;\n",
              "    }\n",
              "  </style>\n",
              "\n",
              "      <script>\n",
              "        const buttonEl =\n",
              "          document.querySelector('#df-30395559-b7f9-4d11-995f-cf7c529da9b7 button.colab-df-convert');\n",
              "        buttonEl.style.display =\n",
              "          google.colab.kernel.accessAllowed ? 'block' : 'none';\n",
              "\n",
              "        async function convertToInteractive(key) {\n",
              "          const element = document.querySelector('#df-30395559-b7f9-4d11-995f-cf7c529da9b7');\n",
              "          const dataTable =\n",
              "            await google.colab.kernel.invokeFunction('convertToInteractive',\n",
              "                                                     [key], {});\n",
              "          if (!dataTable) return;\n",
              "\n",
              "          const docLinkHtml = 'Like what you see? Visit the ' +\n",
              "            '<a target=\"_blank\" href=https://colab.research.google.com/notebooks/data_table.ipynb>data table notebook</a>'\n",
              "            + ' to learn more about interactive tables.';\n",
              "          element.innerHTML = '';\n",
              "          dataTable['output_type'] = 'display_data';\n",
              "          await google.colab.output.renderOutput(dataTable, element);\n",
              "          const docLink = document.createElement('div');\n",
              "          docLink.innerHTML = docLinkHtml;\n",
              "          element.appendChild(docLink);\n",
              "        }\n",
              "      </script>\n",
              "    </div>\n",
              "  </div>\n",
              "  "
            ]
          },
          "metadata": {},
          "execution_count": 13
        }
      ]
    },
    {
      "cell_type": "markdown",
      "source": [
        "#### Variáveis continuas e discretas"
      ],
      "metadata": {
        "id": "4jFAhX_FiihU"
      }
    },
    {
      "cell_type": "markdown",
      "source": [
        "Como podemos verificar no método describe temos uma grande dispersão de valores ao comparar as variáveis entre si, por exemplo a variável \"Avg_Open_To_Buy\" tem  faixa de valores entre 3 a 34 mil enquanto a variável \"Dependent_count\" tem faixa de 0 a 5.\n",
        "Sendo assim, identificamos que todas variáveis com valor máximo menor que 140 possuem caracteristicas de variável discreta por se tratar de contagem sobre algum evento, com exceção da variável \"Avg_Utilization_Ratio\" por se tratar da taxa de utilização.\n",
        "Dessa forma iremos fazer a seguinte separação."
      ],
      "metadata": {
        "id": "OyD_5EhWNUbM"
      }
    },
    {
      "cell_type": "code",
      "source": [
        "continua = []\n",
        "discreta = []\n",
        "for var in num_vars:\n",
        "    if data[var].nunique() < 140:\n",
        "        discreta.append(var)\n",
        "    else: \n",
        "        continua.append(var)\n",
        "        \n",
        "print(f'Temos {len(continua)} variáveis continuas')\n",
        "print(f'As variáveis continuas são {continua}')\n",
        "print('')\n",
        "print(f'Temos {len(discreta)} variáveis discretas')\n",
        "print(f'As variáveis discretas são {discreta}')\n"
      ],
      "metadata": {
        "colab": {
          "base_uri": "https://localhost:8080/"
        },
        "id": "gdWMd8-gVe_R",
        "outputId": "0d512344-18f5-4fe8-b7a0-a5c075056b50"
      },
      "execution_count": null,
      "outputs": [
        {
          "output_type": "stream",
          "name": "stdout",
          "text": [
            "Temos 7 variáveis continuas\n",
            "As variáveis continuas são ['Credit_Limit', 'Total_Revolving_Bal', 'Avg_Open_To_Buy', 'Total_Amt_Chng_Q4_Q1', 'Total_Trans_Amt', 'Total_Ct_Chng_Q4_Q1', 'Avg_Utilization_Ratio']\n",
            "\n",
            "Temos 7 variáveis discretas\n",
            "As variáveis discretas são ['Customer_Age', 'Dependent_count', 'Months_on_book', 'Total_Relationship_Count', 'Months_Inactive_12_mon', 'Contacts_Count_12_mon', 'Total_Trans_Ct']\n"
          ]
        }
      ]
    },
    {
      "cell_type": "markdown",
      "source": [
        "### Variáveis categóricas"
      ],
      "metadata": {
        "id": "ScZlB1nkNIbA"
      }
    },
    {
      "cell_type": "code",
      "source": [
        "cat_vars"
      ],
      "metadata": {
        "colab": {
          "base_uri": "https://localhost:8080/"
        },
        "id": "UkR3VASnJxXG",
        "outputId": "0cbc880d-98c7-4186-c0e7-0f8e284cfd35"
      },
      "execution_count": null,
      "outputs": [
        {
          "output_type": "execute_result",
          "data": {
            "text/plain": [
              "['Gender',\n",
              " 'Education_Level',\n",
              " 'Marital_Status',\n",
              " 'Income_Category',\n",
              " 'Card_Category']"
            ]
          },
          "metadata": {},
          "execution_count": 15
        }
      ]
    },
    {
      "cell_type": "markdown",
      "source": [
        "## Visualização para gerar insights "
      ],
      "metadata": {
        "id": "9kpkSVc0qTFZ"
      }
    },
    {
      "cell_type": "markdown",
      "source": [
        "### Variáveis continuas"
      ],
      "metadata": {
        "id": "5tHQhsj1vgXn"
      }
    },
    {
      "cell_type": "code",
      "source": [
        "for i in continua:\n",
        "  fig, ax =plt.subplots(figsize=(9, 5))\n",
        "  sns.histplot(data[i])\n",
        "  fig.show()"
      ],
      "metadata": {
        "colab": {
          "base_uri": "https://localhost:8080/",
          "height": 1000
        },
        "id": "JIB7XqVsjpTz",
        "outputId": "9243c818-93d0-4160-b1c7-0dec3cdd6ef3"
      },
      "execution_count": null,
      "outputs": [
        {
          "output_type": "display_data",
          "data": {
            "text/plain": [
              "<Figure size 648x360 with 1 Axes>"
            ],
            "image/png": "[encoded data removed]"
          },
          "metadata": {
            "needs_background": "light"
          }
        },
        {
          "output_type": "display_data",
          "data": {
            "text/plain": [
              "<Figure size 648x360 with 1 Axes>"
            ],
            "image/png": "[encoded data removed]"
          },
          "metadata": {
            "needs_background": "light"
          }
        },
        {
          "output_type": "display_data",
          "data": {
            "text/plain": [
              "<Figure size 648x360 with 1 Axes>"
            ],
            "image/png": "[encoded data removed]"
          },
          "metadata": {
            "needs_background": "light"
          }
        },
        {
          "output_type": "display_data",
          "data": {
            "text/plain": [
              "<Figure size 648x360 with 1 Axes>"
            ],
            "image/png": "[encoded data removed]"
          },
          "metadata": {
            "needs_background": "light"
          }
        },
        {
          "output_type": "display_data",
          "data": {
            "text/plain": [
              "<Figure size 648x360 with 1 Axes>"
            ],
            "image/png": "[encoded data removed]"
          },
          "metadata": {
            "needs_background": "light"
          }
        },
        {
          "output_type": "display_data",
          "data": {
            "text/plain": [
              "<Figure size 648x360 with 1 Axes>"
            ],
            "image/png": "[encoded data removed]"
          },
          "metadata": {
            "needs_background": "light"
          }
        },
        {
          "output_type": "display_data",
          "data": {
            "text/plain": [
              "<Figure size 648x360 with 1 Axes>"
            ],
            "image/png": "[encoded data removed]"
          },
          "metadata": {
            "needs_background": "light"
          }
        }
      ]
    },
    {
      "cell_type": "markdown",
      "source": [
        "Observamos que diretamente nenhuma das variáveis continuas apresentam distribuição normal perfeita, porem com tratamento de outliers, as variáveis \"Total_Revolving_Bal\", \"Total_Amt_Chng_Q4_Q1\" e \"Total_Ct_Chng_Q4_Q1\" apresentam distribuição normal."
      ],
      "metadata": {
        "id": "cT9NqXrAlreJ"
      }
    },
    {
      "cell_type": "code",
      "source": [
        "data[continua].corr()"
      ],
      "metadata": {
        "colab": {
          "base_uri": "https://localhost:8080/",
          "height": 269
        },
        "id": "LY4Y4rmVBbRz",
        "outputId": "bb46fe4c-4a03-4773-d05b-7664aea1dcb6"
      },
      "execution_count": null,
      "outputs": [
        {
          "output_type": "execute_result",
          "data": {
            "text/plain": [
              "                       Credit_Limit  Total_Revolving_Bal  Avg_Open_To_Buy  \\\n",
              "Credit_Limit               1.000000             0.042493         0.995981   \n",
              "Total_Revolving_Bal        0.042493             1.000000        -0.047167   \n",
              "Avg_Open_To_Buy            0.995981            -0.047167         1.000000   \n",
              "Total_Amt_Chng_Q4_Q1       0.012813             0.058174         0.007595   \n",
              "Total_Trans_Amt            0.171730             0.064370         0.165923   \n",
              "Total_Ct_Chng_Q4_Q1       -0.002020             0.089861        -0.010076   \n",
              "Avg_Utilization_Ratio     -0.482965             0.624022        -0.538808   \n",
              "\n",
              "                       Total_Amt_Chng_Q4_Q1  Total_Trans_Amt  \\\n",
              "Credit_Limit                       0.012813         0.171730   \n",
              "Total_Revolving_Bal                0.058174         0.064370   \n",
              "Avg_Open_To_Buy                    0.007595         0.165923   \n",
              "Total_Amt_Chng_Q4_Q1               1.000000         0.039678   \n",
              "Total_Trans_Amt                    0.039678         1.000000   \n",
              "Total_Ct_Chng_Q4_Q1                0.384189         0.085581   \n",
              "Avg_Utilization_Ratio              0.035235        -0.083034   \n",
              "\n",
              "                       Total_Ct_Chng_Q4_Q1  Avg_Utilization_Ratio  \n",
              "Credit_Limit                     -0.002020              -0.482965  \n",
              "Total_Revolving_Bal               0.089861               0.624022  \n",
              "Avg_Open_To_Buy                  -0.010076              -0.538808  \n",
              "Total_Amt_Chng_Q4_Q1              0.384189               0.035235  \n",
              "Total_Trans_Amt                   0.085581              -0.083034  \n",
              "Total_Ct_Chng_Q4_Q1               1.000000               0.074143  \n",
              "Avg_Utilization_Ratio             0.074143               1.000000  "
            ],
            "text/html": [
              "\n",
              "  <div id=\"df-53ad999f-d4a2-46d6-a948-408ec0b7018e\">\n",
              "    <div class=\"colab-df-container\">\n",
              "      <div>\n",
              "<style scoped>\n",
              "    .dataframe tbody tr th:only-of-type {\n",
              "        vertical-align: middle;\n",
              "    }\n",
              "\n",
              "    .dataframe tbody tr th {\n",
              "        vertical-align: top;\n",
              "    }\n",
              "\n",
              "    .dataframe thead th {\n",
              "        text-align: right;\n",
              "    }\n",
              "</style>\n",
              "<table border=\"1\" class=\"dataframe\">\n",
              "  <thead>\n",
              "    <tr style=\"text-align: right;\">\n",
              "      <th></th>\n",
              "      <th>Credit_Limit</th>\n",
              "      <th>Total_Revolving_Bal</th>\n",
              "      <th>Avg_Open_To_Buy</th>\n",
              "      <th>Total_Amt_Chng_Q4_Q1</th>\n",
              "      <th>Total_Trans_Amt</th>\n",
              "      <th>Total_Ct_Chng_Q4_Q1</th>\n",
              "      <th>Avg_Utilization_Ratio</th>\n",
              "    </tr>\n",
              "  </thead>\n",
              "  <tbody>\n",
              "    <tr>\n",
              "      <th>Credit_Limit</th>\n",
              "      <td>1.000000</td>\n",
              "      <td>0.042493</td>\n",
              "      <td>0.995981</td>\n",
              "      <td>0.012813</td>\n",
              "      <td>0.171730</td>\n",
              "      <td>-0.002020</td>\n",
              "      <td>-0.482965</td>\n",
              "    </tr>\n",
              "    <tr>\n",
              "      <th>Total_Revolving_Bal</th>\n",
              "      <td>0.042493</td>\n",
              "      <td>1.000000</td>\n",
              "      <td>-0.047167</td>\n",
              "      <td>0.058174</td>\n",
              "      <td>0.064370</td>\n",
              "      <td>0.089861</td>\n",
              "      <td>0.624022</td>\n",
              "    </tr>\n",
              "    <tr>\n",
              "      <th>Avg_Open_To_Buy</th>\n",
              "      <td>0.995981</td>\n",
              "      <td>-0.047167</td>\n",
              "      <td>1.000000</td>\n",
              "      <td>0.007595</td>\n",
              "      <td>0.165923</td>\n",
              "      <td>-0.010076</td>\n",
              "      <td>-0.538808</td>\n",
              "    </tr>\n",
              "    <tr>\n",
              "      <th>Total_Amt_Chng_Q4_Q1</th>\n",
              "      <td>0.012813</td>\n",
              "      <td>0.058174</td>\n",
              "      <td>0.007595</td>\n",
              "      <td>1.000000</td>\n",
              "      <td>0.039678</td>\n",
              "      <td>0.384189</td>\n",
              "      <td>0.035235</td>\n",
              "    </tr>\n",
              "    <tr>\n",
              "      <th>Total_Trans_Amt</th>\n",
              "      <td>0.171730</td>\n",
              "      <td>0.064370</td>\n",
              "      <td>0.165923</td>\n",
              "      <td>0.039678</td>\n",
              "      <td>1.000000</td>\n",
              "      <td>0.085581</td>\n",
              "      <td>-0.083034</td>\n",
              "    </tr>\n",
              "    <tr>\n",
              "      <th>Total_Ct_Chng_Q4_Q1</th>\n",
              "      <td>-0.002020</td>\n",
              "      <td>0.089861</td>\n",
              "      <td>-0.010076</td>\n",
              "      <td>0.384189</td>\n",
              "      <td>0.085581</td>\n",
              "      <td>1.000000</td>\n",
              "      <td>0.074143</td>\n",
              "    </tr>\n",
              "    <tr>\n",
              "      <th>Avg_Utilization_Ratio</th>\n",
              "      <td>-0.482965</td>\n",
              "      <td>0.624022</td>\n",
              "      <td>-0.538808</td>\n",
              "      <td>0.035235</td>\n",
              "      <td>-0.083034</td>\n",
              "      <td>0.074143</td>\n",
              "      <td>1.000000</td>\n",
              "    </tr>\n",
              "  </tbody>\n",
              "</table>\n",
              "</div>\n",
              "      <button class=\"colab-df-convert\" onclick=\"convertToInteractive('df-53ad999f-d4a2-46d6-a948-408ec0b7018e')\"\n",
              "              title=\"Convert this dataframe to an interactive table.\"\n",
              "              style=\"display:none;\">\n",
              "        \n",
              "  <svg xmlns=\"http://www.w3.org/2000/svg\" height=\"24px\"viewBox=\"0 0 24 24\"\n",
              "       width=\"24px\">\n",
              "    <path d=\"M0 0h24v24H0V0z\" fill=\"none\"/>\n",
              "    <path d=\"M18.56 5.44l.94 2.06.94-2.06 2.06-.94-2.06-.94-.94-2.06-.94 2.06-2.06.94zm-11 1L8.5 8.5l.94-2.06 2.06-.94-2.06-.94L8.5 2.5l-.94 2.06-2.06.94zm10 10l.94 2.06.94-2.06 2.06-.94-2.06-.94-.94-2.06-.94 2.06-2.06.94z\"/><path d=\"M17.41 7.96l-1.37-1.37c-.4-.4-.92-.59-1.43-.59-.52 0-1.04.2-1.43.59L10.3 9.45l-7.72 7.72c-.78.78-.78 2.05 0 2.83L4 21.41c.39.39.9.59 1.41.59.51 0 1.02-.2 1.41-.59l7.78-7.78 2.81-2.81c.8-.78.8-2.07 0-2.86zM5.41 20L4 18.59l7.72-7.72 1.47 1.35L5.41 20z\"/>\n",
              "  </svg>\n",
              "      </button>\n",
              "      \n",
              "  <style>\n",
              "    .colab-df-container {\n",
              "      display:flex;\n",
              "      flex-wrap:wrap;\n",
              "      gap: 12px;\n",
              "    }\n",
              "\n",
              "    .colab-df-convert {\n",
              "      background-color: #E8F0FE;\n",
              "      border: none;\n",
              "      border-radius: 50%;\n",
              "      cursor: pointer;\n",
              "      display: none;\n",
              "      fill: #1967D2;\n",
              "      height: 32px;\n",
              "      padding: 0 0 0 0;\n",
              "      width: 32px;\n",
              "    }\n",
              "\n",
              "    .colab-df-convert:hover {\n",
              "      background-color: #E2EBFA;\n",
              "      box-shadow: 0px 1px 2px rgba(60, 64, 67, 0.3), 0px 1px 3px 1px rgba(60, 64, 67, 0.15);\n",
              "      fill: #174EA6;\n",
              "    }\n",
              "\n",
              "    [theme=dark] .colab-df-convert {\n",
              "      background-color: #3B4455;\n",
              "      fill: #D2E3FC;\n",
              "    }\n",
              "\n",
              "    [theme=dark] .colab-df-convert:hover {\n",
              "      background-color: #434B5C;\n",
              "      box-shadow: 0px 1px 3px 1px rgba(0, 0, 0, 0.15);\n",
              "      filter: drop-shadow(0px 1px 2px rgba(0, 0, 0, 0.3));\n",
              "      fill: #FFFFFF;\n",
              "    }\n",
              "  </style>\n",
              "\n",
              "      <script>\n",
              "        const buttonEl =\n",
              "          document.querySelector('#df-53ad999f-d4a2-46d6-a948-408ec0b7018e button.colab-df-convert');\n",
              "        buttonEl.style.display =\n",
              "          google.colab.kernel.accessAllowed ? 'block' : 'none';\n",
              "\n",
              "        async function convertToInteractive(key) {\n",
              "          const element = document.querySelector('#df-53ad999f-d4a2-46d6-a948-408ec0b7018e');\n",
              "          const dataTable =\n",
              "            await google.colab.kernel.invokeFunction('convertToInteractive',\n",
              "                                                     [key], {});\n",
              "          if (!dataTable) return;\n",
              "\n",
              "          const docLinkHtml = 'Like what you see? Visit the ' +\n",
              "            '<a target=\"_blank\" href=https://colab.research.google.com/notebooks/data_table.ipynb>data table notebook</a>'\n",
              "            + ' to learn more about interactive tables.';\n",
              "          element.innerHTML = '';\n",
              "          dataTable['output_type'] = 'display_data';\n",
              "          await google.colab.output.renderOutput(dataTable, element);\n",
              "          const docLink = document.createElement('div');\n",
              "          docLink.innerHTML = docLinkHtml;\n",
              "          element.appendChild(docLink);\n",
              "        }\n",
              "      </script>\n",
              "    </div>\n",
              "  </div>\n",
              "  "
            ]
          },
          "metadata": {},
          "execution_count": 17
        }
      ]
    },
    {
      "cell_type": "markdown",
      "source": [
        "Analisando as correlações, a única expressiva que encontramos é a correlação entre \"Credit_Limit\" e \"Avg_Open_To_Buy\" com correlação de 0.99. Sendo assim descartaremos a \"Avg_Open_To_Buy\"."
      ],
      "metadata": {
        "id": "oY9-62t-KQy6"
      }
    },
    {
      "cell_type": "code",
      "source": [
        "continua.remove('Avg_Open_To_Buy')"
      ],
      "metadata": {
        "id": "4K8Rl41KKl1_"
      },
      "execution_count": null,
      "outputs": []
    },
    {
      "cell_type": "markdown",
      "source": [
        "### Variaveis discretas"
      ],
      "metadata": {
        "id": "2roYpVkAvmaw"
      }
    },
    {
      "cell_type": "code",
      "source": [
        "discreta"
      ],
      "metadata": {
        "colab": {
          "base_uri": "https://localhost:8080/"
        },
        "id": "bciJgRugDRZS",
        "outputId": "6ab5e0f9-fb45-477b-8e62-55f41149a3e5"
      },
      "execution_count": null,
      "outputs": [
        {
          "output_type": "execute_result",
          "data": {
            "text/plain": [
              "['Customer_Age',\n",
              " 'Dependent_count',\n",
              " 'Months_on_book',\n",
              " 'Total_Relationship_Count',\n",
              " 'Months_Inactive_12_mon',\n",
              " 'Contacts_Count_12_mon',\n",
              " 'Total_Trans_Ct']"
            ]
          },
          "metadata": {},
          "execution_count": 19
        }
      ]
    },
    {
      "cell_type": "code",
      "source": [
        "for i in discreta:\n",
        "  sns.boxplot(x=i, data=data)\n",
        "  plt.show()"
      ],
      "metadata": {
        "colab": {
          "base_uri": "https://localhost:8080/",
          "height": 1000
        },
        "id": "OePIOJOCDU_G",
        "outputId": "ca2c40d8-261a-4ac0-d50e-7b11ad12c7f1"
      },
      "execution_count": null,
      "outputs": [
        {
          "output_type": "display_data",
          "data": {
            "text/plain": [
              "<Figure size 432x288 with 1 Axes>"
            ],
            "image/png": "[encoded data removed]"
          },
          "metadata": {
            "needs_background": "light"
          }
        },
        {
          "output_type": "display_data",
          "data": {
            "text/plain": [
              "<Figure size 432x288 with 1 Axes>"
            ],
            "image/png": "[encoded data removed]"
          },
          "metadata": {
            "needs_background": "light"
          }
        },
        {
          "output_type": "display_data",
          "data": {
            "text/plain": [
              "<Figure size 432x288 with 1 Axes>"
            ],
            "image/png": "[encoded data removed]"
          },
          "metadata": {
            "needs_background": "light"
          }
        },
        {
          "output_type": "display_data",
          "data": {
            "text/plain": [
              "<Figure size 432x288 with 1 Axes>"
            ],
            "image/png": "[encoded data removed]"
          },
          "metadata": {
            "needs_background": "light"
          }
        },
        {
          "output_type": "display_data",
          "data": {
            "text/plain": [
              "<Figure size 432x288 with 1 Axes>"
            ],
            "image/png": "[encoded data removed]"
          },
          "metadata": {
            "needs_background": "light"
          }
        },
        {
          "output_type": "display_data",
          "data": {
            "text/plain": [
              "<Figure size 432x288 with 1 Axes>"
            ],
            "image/png": "[encoded data removed]"
          },
          "metadata": {
            "needs_background": "light"
          }
        },
        {
          "output_type": "display_data",
          "data": {
            "text/plain": [
              "<Figure size 432x288 with 1 Axes>"
            ],
            "image/png": "[encoded data removed]"
          },
          "metadata": {
            "needs_background": "light"
          }
        }
      ]
    },
    {
      "cell_type": "markdown",
      "source": [
        "Visualizando os gráficos temos uma boa ideia de como se distribuem as variáveis discretas."
      ],
      "metadata": {
        "id": "ikNdKtkfLAta"
      }
    },
    {
      "cell_type": "markdown",
      "source": [
        "### Variáveis categóricas"
      ],
      "metadata": {
        "id": "-GRQGEaGvqPP"
      }
    },
    {
      "cell_type": "code",
      "source": [
        "cat_vars"
      ],
      "metadata": {
        "colab": {
          "base_uri": "https://localhost:8080/"
        },
        "id": "oGUI9NmpELDW",
        "outputId": "f4bc009a-a937-488d-b751-01511ed59100"
      },
      "execution_count": null,
      "outputs": [
        {
          "output_type": "execute_result",
          "data": {
            "text/plain": [
              "['Gender',\n",
              " 'Education_Level',\n",
              " 'Marital_Status',\n",
              " 'Income_Category',\n",
              " 'Card_Category']"
            ]
          },
          "metadata": {},
          "execution_count": 21
        }
      ]
    },
    {
      "cell_type": "code",
      "source": [
        "for i in cat_vars:\n",
        "  if i == 'Card_Category':\n",
        "    continue\n",
        "  ax = sns.histplot(x=i, hue='Attrition_Flag', data=data)\n",
        "  ax.set_xticklabels(data[i].values, rotation=45)\n",
        "  plt.show()"
      ],
      "metadata": {
        "colab": {
          "base_uri": "https://localhost:8080/",
          "height": 1000
        },
        "id": "4aU1nI8JEMLa",
        "outputId": "a2cfd7e4-8350-4982-b25b-c9a576cdf361"
      },
      "execution_count": null,
      "outputs": [
        {
          "output_type": "display_data",
          "data": {
            "text/plain": [
              "<Figure size 432x288 with 1 Axes>"
            ],
            "image/png": "[encoded data removed]"
          },
          "metadata": {
            "needs_background": "light"
          }
        },
        {
          "output_type": "display_data",
          "data": {
            "text/plain": [
              "<Figure size 432x288 with 1 Axes>"
            ],
            "image/png": "[encoded data removed]"
          },
          "metadata": {
            "needs_background": "light"
          }
        },
        {
          "output_type": "display_data",
          "data": {
            "text/plain": [
              "<Figure size 432x288 with 1 Axes>"
            ],
            "image/png": "[encoded data removed]"
          },
          "metadata": {
            "needs_background": "light"
          }
        },
        {
          "output_type": "display_data",
          "data": {
            "text/plain": [
              "<Figure size 432x288 with 1 Axes>"
            ],
            "image/png": "[encoded data removed]"
          },
          "metadata": {
            "needs_background": "light"
          }
        }
      ]
    },
    {
      "cell_type": "code",
      "source": [
        "ax = sns.histplot(x='Card_Category',hue='Attrition_Flag', data=data)\n",
        "ax.set_xticklabels(data['Card_Category'].unique(), rotation=45)\n",
        "plt.show()"
      ],
      "metadata": {
        "colab": {
          "base_uri": "https://localhost:8080/",
          "height": 309
        },
        "id": "2jPJXDpuG2c2",
        "outputId": "58e7b80c-5d0a-42f7-ae94-3c7d3685371b"
      },
      "execution_count": null,
      "outputs": [
        {
          "output_type": "display_data",
          "data": {
            "text/plain": [
              "<Figure size 432x288 with 1 Axes>"
            ],
            "image/png": "[encoded data removed]"
          },
          "metadata": {
            "needs_background": "light"
          }
        }
      ]
    },
    {
      "cell_type": "markdown",
      "source": [
        "Nos gráficos das variáveis categóricas podemos verificar como estão distribuidos os clientes. Também é possível identificar a quantidade de clientes que evadiram, porem não é possível tirar conclusões visto que não há nenhuma categoria que se destaque por ter um alto índice de evasão, de modo geral as categorias que mais possuem clientes, proporcionalmente também perderam mais clientes."
      ],
      "metadata": {
        "id": "xFifCEuqL0Fq"
      }
    },
    {
      "cell_type": "markdown",
      "source": [
        "### Conclusão \n",
        "\n",
        "- Variáveis continuas: Identificamos a importância de normalizar os dados devido a grande discrepancia de valores, também vimos a necessidade de tratar os outliers para poder trabalhar com as distribuições normais. Duas variáveis apresentaram alta correlação entre si, portanto eliminamos uma delas da analise.\n",
        "- Variáveis discretas: Tivemos uma ideia de como estão distribuidas essas variáveis e também identificamos a presença de outliers.\n",
        "- Variáveis categóricas: Também tivemos uma ideia de como estão distribuidas essas variáveis, porem não foi possível identificar nenhuma variável que se destaque com relação a clientes evadidos, portanto seguimos o modelo com todas."
      ],
      "metadata": {
        "id": "S21SFuMiAQ7O"
      }
    },
    {
      "cell_type": "markdown",
      "source": [
        "## Tratamento dos dados\n"
      ],
      "metadata": {
        "id": "0PbqQOWmDUTF"
      }
    },
    {
      "cell_type": "markdown",
      "source": [
        "### Normalização das variáveis continuas"
      ],
      "metadata": {
        "id": "NXTXoKElMt2Q"
      }
    },
    {
      "cell_type": "markdown",
      "source": [
        "Observamos que a faixa do valor de limite é de 1438 a 34516, com média de 8631 e desvio padrão de 9088. a faixa da quantidade de transações é de 10 a 139, com média de 64 e desvio padrão de 23. Como a escala dos valores é muito diferente, para melhorar a qualidade dos dados é necessario normalizar esses valores.\n",
        "Inicialmente iremos realizar a normalização com métodos manuais, sem uso de bibliotecas que realizam essa atividade."
      ],
      "metadata": {
        "id": "4oWw88t8KMNq"
      }
    },
    {
      "cell_type": "code",
      "source": [
        "data['Credit_Limit'].describe()"
      ],
      "metadata": {
        "colab": {
          "base_uri": "https://localhost:8080/"
        },
        "id": "-xLVCMMp_jBQ",
        "outputId": "7fd3bc94-8566-45a4-decf-e3cb97678db4"
      },
      "execution_count": null,
      "outputs": [
        {
          "output_type": "execute_result",
          "data": {
            "text/plain": [
              "count    10127.000000\n",
              "mean      8631.953698\n",
              "std       9088.776650\n",
              "min       1438.300000\n",
              "25%       2555.000000\n",
              "50%       4549.000000\n",
              "75%      11067.500000\n",
              "max      34516.000000\n",
              "Name: Credit_Limit, dtype: float64"
            ]
          },
          "metadata": {},
          "execution_count": 24
        }
      ]
    },
    {
      "cell_type": "code",
      "source": [
        "data['Total_Trans_Ct'].describe()"
      ],
      "metadata": {
        "colab": {
          "base_uri": "https://localhost:8080/"
        },
        "id": "kVLsp-KMEb8J",
        "outputId": "874b5145-f914-4ddd-bb74-7ad9c2920db3"
      },
      "execution_count": null,
      "outputs": [
        {
          "output_type": "execute_result",
          "data": {
            "text/plain": [
              "count    10127.000000\n",
              "mean        64.858695\n",
              "std         23.472570\n",
              "min         10.000000\n",
              "25%         45.000000\n",
              "50%         67.000000\n",
              "75%         81.000000\n",
              "max        139.000000\n",
              "Name: Total_Trans_Ct, dtype: float64"
            ]
          },
          "metadata": {},
          "execution_count": 25
        }
      ]
    },
    {
      "cell_type": "markdown",
      "source": [
        "#### Normalização manual\n",
        "$$X_n = (X_n - mean) / std $$"
      ],
      "metadata": {
        "id": "kagtbxBbKE9_"
      }
    },
    {
      "cell_type": "code",
      "source": [
        "data_manual = pd.DataFrame()\n",
        "for i in continua:\n",
        "  data_manual[i] = (data[i] - data[i].mean())/data[i].std()"
      ],
      "metadata": {
        "id": "F0wre35VE7o7"
      },
      "execution_count": null,
      "outputs": []
    },
    {
      "cell_type": "code",
      "source": [
        "data_manual[continua].describe()"
      ],
      "metadata": {
        "colab": {
          "base_uri": "https://localhost:8080/",
          "height": 300
        },
        "id": "hqH-JS5_PHQ5",
        "outputId": "bbab6a33-2270-447a-a20a-98e39d4b033c"
      },
      "execution_count": null,
      "outputs": [
        {
          "output_type": "execute_result",
          "data": {
            "text/plain": [
              "       Credit_Limit  Total_Revolving_Bal  Total_Amt_Chng_Q4_Q1  \\\n",
              "count  1.012700e+04         1.012700e+04          1.012700e+04   \n",
              "mean   1.089401e-14         2.578498e-17         -1.243346e-14   \n",
              "std    1.000000e+00         1.000000e+00          1.000000e+00   \n",
              "min   -7.914876e-01        -1.426788e+00         -3.466775e+00   \n",
              "25%   -6.686217e-01        -9.862902e-01         -5.882147e-01   \n",
              "50%   -4.492303e-01         1.388806e-01         -1.092149e-01   \n",
              "75%    2.679730e-01         7.622032e-01          4.518991e-01   \n",
              "max    2.847913e+00         1.661604e+00          1.203001e+01   \n",
              "\n",
              "       Total_Trans_Amt  Total_Ct_Chng_Q4_Q1  Avg_Utilization_Ratio  \n",
              "count     1.012700e+04         1.012700e+04           1.012700e+04  \n",
              "mean     -7.467338e-16         3.846095e-15           8.870492e-16  \n",
              "std       1.000000e+00         1.000000e+00           1.000000e+00  \n",
              "min      -1.146287e+00        -2.991449e+00          -9.971058e-01  \n",
              "25%      -6.619078e-01        -5.469550e-01          -9.136792e-01  \n",
              "50%      -1.486803e-01        -4.293563e-02          -3.587110e-01  \n",
              "75%       9.917600e-02         4.442831e-01           8.273976e-01  \n",
              "max       4.144651e+00         1.260795e+01           2.626510e+00  "
            ],
            "text/html": [
              "\n",
              "  <div id=\"df-bb0cf219-60c8-4754-a9ab-9124175faa0c\">\n",
              "    <div class=\"colab-df-container\">\n",
              "      <div>\n",
              "<style scoped>\n",
              "    .dataframe tbody tr th:only-of-type {\n",
              "        vertical-align: middle;\n",
              "    }\n",
              "\n",
              "    .dataframe tbody tr th {\n",
              "        vertical-align: top;\n",
              "    }\n",
              "\n",
              "    .dataframe thead th {\n",
              "        text-align: right;\n",
              "    }\n",
              "</style>\n",
              "<table border=\"1\" class=\"dataframe\">\n",
              "  <thead>\n",
              "    <tr style=\"text-align: right;\">\n",
              "      <th></th>\n",
              "      <th>Credit_Limit</th>\n",
              "      <th>Total_Revolving_Bal</th>\n",
              "      <th>Total_Amt_Chng_Q4_Q1</th>\n",
              "      <th>Total_Trans_Amt</th>\n",
              "      <th>Total_Ct_Chng_Q4_Q1</th>\n",
              "      <th>Avg_Utilization_Ratio</th>\n",
              "    </tr>\n",
              "  </thead>\n",
              "  <tbody>\n",
              "    <tr>\n",
              "      <th>count</th>\n",
              "      <td>1.012700e+04</td>\n",
              "      <td>1.012700e+04</td>\n",
              "      <td>1.012700e+04</td>\n",
              "      <td>1.012700e+04</td>\n",
              "      <td>1.012700e+04</td>\n",
              "      <td>1.012700e+04</td>\n",
              "    </tr>\n",
              "    <tr>\n",
              "      <th>mean</th>\n",
              "      <td>1.089401e-14</td>\n",
              "      <td>2.578498e-17</td>\n",
              "      <td>-1.243346e-14</td>\n",
              "      <td>-7.467338e-16</td>\n",
              "      <td>3.846095e-15</td>\n",
              "      <td>8.870492e-16</td>\n",
              "    </tr>\n",
              "    <tr>\n",
              "      <th>std</th>\n",
              "      <td>1.000000e+00</td>\n",
              "      <td>1.000000e+00</td>\n",
              "      <td>1.000000e+00</td>\n",
              "      <td>1.000000e+00</td>\n",
              "      <td>1.000000e+00</td>\n",
              "      <td>1.000000e+00</td>\n",
              "    </tr>\n",
              "    <tr>\n",
              "      <th>min</th>\n",
              "      <td>-7.914876e-01</td>\n",
              "      <td>-1.426788e+00</td>\n",
              "      <td>-3.466775e+00</td>\n",
              "      <td>-1.146287e+00</td>\n",
              "      <td>-2.991449e+00</td>\n",
              "      <td>-9.971058e-01</td>\n",
              "    </tr>\n",
              "    <tr>\n",
              "      <th>25%</th>\n",
              "      <td>-6.686217e-01</td>\n",
              "      <td>-9.862902e-01</td>\n",
              "      <td>-5.882147e-01</td>\n",
              "      <td>-6.619078e-01</td>\n",
              "      <td>-5.469550e-01</td>\n",
              "      <td>-9.136792e-01</td>\n",
              "    </tr>\n",
              "    <tr>\n",
              "      <th>50%</th>\n",
              "      <td>-4.492303e-01</td>\n",
              "      <td>1.388806e-01</td>\n",
              "      <td>-1.092149e-01</td>\n",
              "      <td>-1.486803e-01</td>\n",
              "      <td>-4.293563e-02</td>\n",
              "      <td>-3.587110e-01</td>\n",
              "    </tr>\n",
              "    <tr>\n",
              "      <th>75%</th>\n",
              "      <td>2.679730e-01</td>\n",
              "      <td>7.622032e-01</td>\n",
              "      <td>4.518991e-01</td>\n",
              "      <td>9.917600e-02</td>\n",
              "      <td>4.442831e-01</td>\n",
              "      <td>8.273976e-01</td>\n",
              "    </tr>\n",
              "    <tr>\n",
              "      <th>max</th>\n",
              "      <td>2.847913e+00</td>\n",
              "      <td>1.661604e+00</td>\n",
              "      <td>1.203001e+01</td>\n",
              "      <td>4.144651e+00</td>\n",
              "      <td>1.260795e+01</td>\n",
              "      <td>2.626510e+00</td>\n",
              "    </tr>\n",
              "  </tbody>\n",
              "</table>\n",
              "</div>\n",
              "      <button class=\"colab-df-convert\" onclick=\"convertToInteractive('df-bb0cf219-60c8-4754-a9ab-9124175faa0c')\"\n",
              "              title=\"Convert this dataframe to an interactive table.\"\n",
              "              style=\"display:none;\">\n",
              "        \n",
              "  <svg xmlns=\"http://www.w3.org/2000/svg\" height=\"24px\"viewBox=\"0 0 24 24\"\n",
              "       width=\"24px\">\n",
              "    <path d=\"M0 0h24v24H0V0z\" fill=\"none\"/>\n",
              "    <path d=\"M18.56 5.44l.94 2.06.94-2.06 2.06-.94-2.06-.94-.94-2.06-.94 2.06-2.06.94zm-11 1L8.5 8.5l.94-2.06 2.06-.94-2.06-.94L8.5 2.5l-.94 2.06-2.06.94zm10 10l.94 2.06.94-2.06 2.06-.94-2.06-.94-.94-2.06-.94 2.06-2.06.94z\"/><path d=\"M17.41 7.96l-1.37-1.37c-.4-.4-.92-.59-1.43-.59-.52 0-1.04.2-1.43.59L10.3 9.45l-7.72 7.72c-.78.78-.78 2.05 0 2.83L4 21.41c.39.39.9.59 1.41.59.51 0 1.02-.2 1.41-.59l7.78-7.78 2.81-2.81c.8-.78.8-2.07 0-2.86zM5.41 20L4 18.59l7.72-7.72 1.47 1.35L5.41 20z\"/>\n",
              "  </svg>\n",
              "      </button>\n",
              "      \n",
              "  <style>\n",
              "    .colab-df-container {\n",
              "      display:flex;\n",
              "      flex-wrap:wrap;\n",
              "      gap: 12px;\n",
              "    }\n",
              "\n",
              "    .colab-df-convert {\n",
              "      background-color: #E8F0FE;\n",
              "      border: none;\n",
              "      border-radius: 50%;\n",
              "      cursor: pointer;\n",
              "      display: none;\n",
              "      fill: #1967D2;\n",
              "      height: 32px;\n",
              "      padding: 0 0 0 0;\n",
              "      width: 32px;\n",
              "    }\n",
              "\n",
              "    .colab-df-convert:hover {\n",
              "      background-color: #E2EBFA;\n",
              "      box-shadow: 0px 1px 2px rgba(60, 64, 67, 0.3), 0px 1px 3px 1px rgba(60, 64, 67, 0.15);\n",
              "      fill: #174EA6;\n",
              "    }\n",
              "\n",
              "    [theme=dark] .colab-df-convert {\n",
              "      background-color: #3B4455;\n",
              "      fill: #D2E3FC;\n",
              "    }\n",
              "\n",
              "    [theme=dark] .colab-df-convert:hover {\n",
              "      background-color: #434B5C;\n",
              "      box-shadow: 0px 1px 3px 1px rgba(0, 0, 0, 0.15);\n",
              "      filter: drop-shadow(0px 1px 2px rgba(0, 0, 0, 0.3));\n",
              "      fill: #FFFFFF;\n",
              "    }\n",
              "  </style>\n",
              "\n",
              "      <script>\n",
              "        const buttonEl =\n",
              "          document.querySelector('#df-bb0cf219-60c8-4754-a9ab-9124175faa0c button.colab-df-convert');\n",
              "        buttonEl.style.display =\n",
              "          google.colab.kernel.accessAllowed ? 'block' : 'none';\n",
              "\n",
              "        async function convertToInteractive(key) {\n",
              "          const element = document.querySelector('#df-bb0cf219-60c8-4754-a9ab-9124175faa0c');\n",
              "          const dataTable =\n",
              "            await google.colab.kernel.invokeFunction('convertToInteractive',\n",
              "                                                     [key], {});\n",
              "          if (!dataTable) return;\n",
              "\n",
              "          const docLinkHtml = 'Like what you see? Visit the ' +\n",
              "            '<a target=\"_blank\" href=https://colab.research.google.com/notebooks/data_table.ipynb>data table notebook</a>'\n",
              "            + ' to learn more about interactive tables.';\n",
              "          element.innerHTML = '';\n",
              "          dataTable['output_type'] = 'display_data';\n",
              "          await google.colab.output.renderOutput(dataTable, element);\n",
              "          const docLink = document.createElement('div');\n",
              "          docLink.innerHTML = docLinkHtml;\n",
              "          element.appendChild(docLink);\n",
              "        }\n",
              "      </script>\n",
              "    </div>\n",
              "  </div>\n",
              "  "
            ]
          },
          "metadata": {},
          "execution_count": 27
        }
      ]
    },
    {
      "cell_type": "code",
      "source": [
        "fig, ax =plt.subplots(1,2, figsize=(12, 7))\n",
        "\n",
        "sns.histplot(data[\"Credit_Limit\"], ax=ax[0])\n",
        "sns.histplot(data_manual[\"Credit_Limit\"], ax=ax[1])\n",
        "\n",
        "fig.show()"
      ],
      "metadata": {
        "colab": {
          "base_uri": "https://localhost:8080/",
          "height": 443
        },
        "id": "WCDXFJDmJA3E",
        "outputId": "d9ee5542-c02d-4eba-b371-870ac4f133e8"
      },
      "execution_count": null,
      "outputs": [
        {
          "output_type": "display_data",
          "data": {
            "text/plain": [
              "<Figure size 864x504 with 2 Axes>"
            ],
            "image/png": "[encoded data removed]"
          },
          "metadata": {
            "needs_background": "light"
          }
        }
      ]
    },
    {
      "cell_type": "markdown",
      "source": [
        "No gráfico temos a plotagem do histograma da variável \"Credit_Limit\" antes e depois da normalização, onde podemos observar que a Normalização manual não afeta a distribuição, mudando apenas o alcance da variável que antes era de 0 a 35000 e agora ficou de -0.7 a 2.8."
      ],
      "metadata": {
        "id": "onSX_ZITJscE"
      }
    },
    {
      "cell_type": "markdown",
      "source": [
        "#### Normalização usando Normalizer do sklearn.preprocessing"
      ],
      "metadata": {
        "id": "drBHlHbN6arw"
      }
    },
    {
      "cell_type": "code",
      "source": [
        "from sklearn.preprocessing import Normalizer\n",
        "\n",
        "X = data[continua]\n",
        "\n",
        "scaler = Normalizer().fit(X)\n",
        "normalized_X = scaler.transform(X)\n",
        "data_norm = pd.DataFrame(normalized_X)"
      ],
      "metadata": {
        "id": "1t9iB7wIOcpF"
      },
      "execution_count": null,
      "outputs": []
    },
    {
      "cell_type": "markdown",
      "source": [
        "A Normalização perde o nome das variáveis, portanto vamos corrigir."
      ],
      "metadata": {
        "id": "CGgX1tFpT58B"
      }
    },
    {
      "cell_type": "code",
      "source": [
        "rename = pd.Series(continua, index=range(0, len(continua)))\n",
        "data_norm.rename(columns=rename, inplace=True)"
      ],
      "metadata": {
        "id": "hHy42jEaTEMN"
      },
      "execution_count": null,
      "outputs": []
    },
    {
      "cell_type": "code",
      "source": [
        "data_norm.describe()"
      ],
      "metadata": {
        "colab": {
          "base_uri": "https://localhost:8080/",
          "height": 300
        },
        "id": "tEEbhpUjT1qn",
        "outputId": "34c6b02b-a557-4e4b-e252-b0128624160e"
      },
      "execution_count": null,
      "outputs": [
        {
          "output_type": "execute_result",
          "data": {
            "text/plain": [
              "       Credit_Limit  Total_Revolving_Bal  Total_Amt_Chng_Q4_Q1  \\\n",
              "count  10127.000000         10127.000000          10127.000000   \n",
              "mean       0.720019             0.165950              0.000116   \n",
              "std        0.231567             0.155178              0.000081   \n",
              "min        0.190972             0.000000              0.000000   \n",
              "25%        0.520719             0.022011              0.000053   \n",
              "50%        0.761066             0.131622              0.000107   \n",
              "75%        0.942823             0.270969              0.000154   \n",
              "max        0.999800             0.669514              0.000932   \n",
              "\n",
              "       Total_Trans_Amt  Total_Ct_Chng_Q4_Q1  Avg_Utilization_Ratio  \n",
              "count     10127.000000         10127.000000           1.012700e+04  \n",
              "mean          0.542609             0.000108           5.196095e-05  \n",
              "std           0.286218             0.000077           6.553981e-05  \n",
              "min           0.018049             0.000000           0.000000e+00  \n",
              "25%           0.284382             0.000048           6.996117e-07  \n",
              "50%           0.558154             0.000100           1.760935e-05  \n",
              "75%           0.810373             0.000146           9.761351e-05  \n",
              "max           0.980905             0.001425           4.258506e-04  "
            ],
            "text/html": [
              "\n",
              "  <div id=\"df-44fed7a0-24aa-486c-a063-9449f56d558b\">\n",
              "    <div class=\"colab-df-container\">\n",
              "      <div>\n",
              "<style scoped>\n",
              "    .dataframe tbody tr th:only-of-type {\n",
              "        vertical-align: middle;\n",
              "    }\n",
              "\n",
              "    .dataframe tbody tr th {\n",
              "        vertical-align: top;\n",
              "    }\n",
              "\n",
              "    .dataframe thead th {\n",
              "        text-align: right;\n",
              "    }\n",
              "</style>\n",
              "<table border=\"1\" class=\"dataframe\">\n",
              "  <thead>\n",
              "    <tr style=\"text-align: right;\">\n",
              "      <th></th>\n",
              "      <th>Credit_Limit</th>\n",
              "      <th>Total_Revolving_Bal</th>\n",
              "      <th>Total_Amt_Chng_Q4_Q1</th>\n",
              "      <th>Total_Trans_Amt</th>\n",
              "      <th>Total_Ct_Chng_Q4_Q1</th>\n",
              "      <th>Avg_Utilization_Ratio</th>\n",
              "    </tr>\n",
              "  </thead>\n",
              "  <tbody>\n",
              "    <tr>\n",
              "      <th>count</th>\n",
              "      <td>10127.000000</td>\n",
              "      <td>10127.000000</td>\n",
              "      <td>10127.000000</td>\n",
              "      <td>10127.000000</td>\n",
              "      <td>10127.000000</td>\n",
              "      <td>1.012700e+04</td>\n",
              "    </tr>\n",
              "    <tr>\n",
              "      <th>mean</th>\n",
              "      <td>0.720019</td>\n",
              "      <td>0.165950</td>\n",
              "      <td>0.000116</td>\n",
              "      <td>0.542609</td>\n",
              "      <td>0.000108</td>\n",
              "      <td>5.196095e-05</td>\n",
              "    </tr>\n",
              "    <tr>\n",
              "      <th>std</th>\n",
              "      <td>0.231567</td>\n",
              "      <td>0.155178</td>\n",
              "      <td>0.000081</td>\n",
              "      <td>0.286218</td>\n",
              "      <td>0.000077</td>\n",
              "      <td>6.553981e-05</td>\n",
              "    </tr>\n",
              "    <tr>\n",
              "      <th>min</th>\n",
              "      <td>0.190972</td>\n",
              "      <td>0.000000</td>\n",
              "      <td>0.000000</td>\n",
              "      <td>0.018049</td>\n",
              "      <td>0.000000</td>\n",
              "      <td>0.000000e+00</td>\n",
              "    </tr>\n",
              "    <tr>\n",
              "      <th>25%</th>\n",
              "      <td>0.520719</td>\n",
              "      <td>0.022011</td>\n",
              "      <td>0.000053</td>\n",
              "      <td>0.284382</td>\n",
              "      <td>0.000048</td>\n",
              "      <td>6.996117e-07</td>\n",
              "    </tr>\n",
              "    <tr>\n",
              "      <th>50%</th>\n",
              "      <td>0.761066</td>\n",
              "      <td>0.131622</td>\n",
              "      <td>0.000107</td>\n",
              "      <td>0.558154</td>\n",
              "      <td>0.000100</td>\n",
              "      <td>1.760935e-05</td>\n",
              "    </tr>\n",
              "    <tr>\n",
              "      <th>75%</th>\n",
              "      <td>0.942823</td>\n",
              "      <td>0.270969</td>\n",
              "      <td>0.000154</td>\n",
              "      <td>0.810373</td>\n",
              "      <td>0.000146</td>\n",
              "      <td>9.761351e-05</td>\n",
              "    </tr>\n",
              "    <tr>\n",
              "      <th>max</th>\n",
              "      <td>0.999800</td>\n",
              "      <td>0.669514</td>\n",
              "      <td>0.000932</td>\n",
              "      <td>0.980905</td>\n",
              "      <td>0.001425</td>\n",
              "      <td>4.258506e-04</td>\n",
              "    </tr>\n",
              "  </tbody>\n",
              "</table>\n",
              "</div>\n",
              "      <button class=\"colab-df-convert\" onclick=\"convertToInteractive('df-44fed7a0-24aa-486c-a063-9449f56d558b')\"\n",
              "              title=\"Convert this dataframe to an interactive table.\"\n",
              "              style=\"display:none;\">\n",
              "        \n",
              "  <svg xmlns=\"http://www.w3.org/2000/svg\" height=\"24px\"viewBox=\"0 0 24 24\"\n",
              "       width=\"24px\">\n",
              "    <path d=\"M0 0h24v24H0V0z\" fill=\"none\"/>\n",
              "    <path d=\"M18.56 5.44l.94 2.06.94-2.06 2.06-.94-2.06-.94-.94-2.06-.94 2.06-2.06.94zm-11 1L8.5 8.5l.94-2.06 2.06-.94-2.06-.94L8.5 2.5l-.94 2.06-2.06.94zm10 10l.94 2.06.94-2.06 2.06-.94-2.06-.94-.94-2.06-.94 2.06-2.06.94z\"/><path d=\"M17.41 7.96l-1.37-1.37c-.4-.4-.92-.59-1.43-.59-.52 0-1.04.2-1.43.59L10.3 9.45l-7.72 7.72c-.78.78-.78 2.05 0 2.83L4 21.41c.39.39.9.59 1.41.59.51 0 1.02-.2 1.41-.59l7.78-7.78 2.81-2.81c.8-.78.8-2.07 0-2.86zM5.41 20L4 18.59l7.72-7.72 1.47 1.35L5.41 20z\"/>\n",
              "  </svg>\n",
              "      </button>\n",
              "      \n",
              "  <style>\n",
              "    .colab-df-container {\n",
              "      display:flex;\n",
              "      flex-wrap:wrap;\n",
              "      gap: 12px;\n",
              "    }\n",
              "\n",
              "    .colab-df-convert {\n",
              "      background-color: #E8F0FE;\n",
              "      border: none;\n",
              "      border-radius: 50%;\n",
              "      cursor: pointer;\n",
              "      display: none;\n",
              "      fill: #1967D2;\n",
              "      height: 32px;\n",
              "      padding: 0 0 0 0;\n",
              "      width: 32px;\n",
              "    }\n",
              "\n",
              "    .colab-df-convert:hover {\n",
              "      background-color: #E2EBFA;\n",
              "      box-shadow: 0px 1px 2px rgba(60, 64, 67, 0.3), 0px 1px 3px 1px rgba(60, 64, 67, 0.15);\n",
              "      fill: #174EA6;\n",
              "    }\n",
              "\n",
              "    [theme=dark] .colab-df-convert {\n",
              "      background-color: #3B4455;\n",
              "      fill: #D2E3FC;\n",
              "    }\n",
              "\n",
              "    [theme=dark] .colab-df-convert:hover {\n",
              "      background-color: #434B5C;\n",
              "      box-shadow: 0px 1px 3px 1px rgba(0, 0, 0, 0.15);\n",
              "      filter: drop-shadow(0px 1px 2px rgba(0, 0, 0, 0.3));\n",
              "      fill: #FFFFFF;\n",
              "    }\n",
              "  </style>\n",
              "\n",
              "      <script>\n",
              "        const buttonEl =\n",
              "          document.querySelector('#df-44fed7a0-24aa-486c-a063-9449f56d558b button.colab-df-convert');\n",
              "        buttonEl.style.display =\n",
              "          google.colab.kernel.accessAllowed ? 'block' : 'none';\n",
              "\n",
              "        async function convertToInteractive(key) {\n",
              "          const element = document.querySelector('#df-44fed7a0-24aa-486c-a063-9449f56d558b');\n",
              "          const dataTable =\n",
              "            await google.colab.kernel.invokeFunction('convertToInteractive',\n",
              "                                                     [key], {});\n",
              "          if (!dataTable) return;\n",
              "\n",
              "          const docLinkHtml = 'Like what you see? Visit the ' +\n",
              "            '<a target=\"_blank\" href=https://colab.research.google.com/notebooks/data_table.ipynb>data table notebook</a>'\n",
              "            + ' to learn more about interactive tables.';\n",
              "          element.innerHTML = '';\n",
              "          dataTable['output_type'] = 'display_data';\n",
              "          await google.colab.output.renderOutput(dataTable, element);\n",
              "          const docLink = document.createElement('div');\n",
              "          docLink.innerHTML = docLinkHtml;\n",
              "          element.appendChild(docLink);\n",
              "        }\n",
              "      </script>\n",
              "    </div>\n",
              "  </div>\n",
              "  "
            ]
          },
          "metadata": {},
          "execution_count": 31
        }
      ]
    },
    {
      "cell_type": "markdown",
      "source": [
        "Verificamos que agora os valores estão entre 0 e 1."
      ],
      "metadata": {
        "id": "XRqG-SqrUQje"
      }
    },
    {
      "cell_type": "code",
      "source": [
        "for i in continua:\n",
        "  fig, ax =plt.subplots(1,2, figsize=(12, 7))\n",
        "\n",
        "  sns.histplot(data[i], ax=ax[0])\n",
        "  sns.histplot(data_norm[i], ax=ax[1])\n",
        "\n",
        "  fig.show()"
      ],
      "metadata": {
        "colab": {
          "base_uri": "https://localhost:8080/",
          "height": 1000
        },
        "id": "WEl2bLNBUQJo",
        "outputId": "ee7d8b27-ffc9-4e33-81a4-e5f53bae8c80"
      },
      "execution_count": null,
      "outputs": [
        {
          "output_type": "display_data",
          "data": {
            "text/plain": [
              "<Figure size 864x504 with 2 Axes>"
            ],
            "image/png": "[encoded data removed]"
          },
          "metadata": {
            "needs_background": "light"
          }
        },
        {
          "output_type": "display_data",
          "data": {
            "text/plain": [
              "<Figure size 864x504 with 2 Axes>"
            ],
            "image/png": "[encoded data removed]"
          },
          "metadata": {
            "needs_background": "light"
          }
        },
        {
          "output_type": "display_data",
          "data": {
            "text/plain": [
              "<Figure size 864x504 with 2 Axes>"
            ],
            "image/png": "[encoded data removed]"
          },
          "metadata": {
            "needs_background": "light"
          }
        },
        {
          "output_type": "display_data",
          "data": {
            "text/plain": [
              "<Figure size 864x504 with 2 Axes>"
            ],
            "image/png": "[encoded data removed]"
          },
          "metadata": {
            "needs_background": "light"
          }
        },
        {
          "output_type": "display_data",
          "data": {
            "text/plain": [
              "<Figure size 864x504 with 2 Axes>"
            ],
            "image/png": "[encoded data removed]"
          },
          "metadata": {
            "needs_background": "light"
          }
        },
        {
          "output_type": "display_data",
          "data": {
            "text/plain": [
              "<Figure size 864x504 with 2 Axes>"
            ],
            "image/png": "[encoded data removed]"
          },
          "metadata": {
            "needs_background": "light"
          }
        }
      ]
    },
    {
      "cell_type": "markdown",
      "source": [
        "Diferente do que vimos na implementação manual da normalização, usando o Normalizer da biblioteca sklearn, a distribuição das variáveis mudou."
      ],
      "metadata": {
        "id": "__pEJplaUk1k"
      }
    },
    {
      "cell_type": "markdown",
      "source": [
        "### Tratando variáveis categóricas"
      ],
      "metadata": {
        "id": "Q8Ez6LF1YBSz"
      }
    },
    {
      "cell_type": "markdown",
      "source": [
        "Para o tratamento das variáveis categóricas iremos usar a estratégia do One-hot-encoder, conforme segue."
      ],
      "metadata": {
        "id": "waJKQU5EaYSr"
      }
    },
    {
      "cell_type": "code",
      "source": [
        "from sklearn.preprocessing import OneHotEncoder\n",
        "\n",
        "encoder = OneHotEncoder(handle_unknown='ignore')\n",
        "encoder_df = pd.DataFrame(encoder.fit_transform(data[cat_vars]).toarray())"
      ],
      "metadata": {
        "id": "OZ7uquCfYBvI"
      },
      "execution_count": null,
      "outputs": []
    },
    {
      "cell_type": "markdown",
      "source": [
        "Transformando os nomes de colunas em Strings, pois o modelo de regressão logistíca do Sklearn pede que todas features sejam Strings."
      ],
      "metadata": {
        "id": "HC5C-yRGlDTz"
      }
    },
    {
      "cell_type": "code",
      "source": [
        "rename_col = [str(i) for i in encoder_df.columns.values]\n",
        "rename = pd.Series(rename_col, index=range(0, len(rename_col)))\n",
        "encoder_df.rename(columns=rename, inplace=True)"
      ],
      "metadata": {
        "id": "0gtF3VtIjf1j"
      },
      "execution_count": null,
      "outputs": []
    },
    {
      "cell_type": "markdown",
      "source": [
        "### Junção das variáveis em um novo DataFrame"
      ],
      "metadata": {
        "id": "lVSQi7mpboSy"
      }
    },
    {
      "cell_type": "code",
      "source": [
        "discret = data[discreta].reset_index()\n",
        "discret.drop(\"CLIENTNUM\", axis=1, inplace=True)\n",
        "final_data = data_norm\n",
        "final_data = final_data.join(encoder_df)\n",
        "final_data = final_data.join(discret)\n",
        "final_data.head()\n",
        "\n"
      ],
      "metadata": {
        "colab": {
          "base_uri": "https://localhost:8080/",
          "height": 299
        },
        "id": "DUkwQaTtbxri",
        "outputId": "dd95ce3f-1974-476a-a983-8ee7070cfb9f"
      },
      "execution_count": null,
      "outputs": [
        {
          "output_type": "execute_result",
          "data": {
            "text/plain": [
              "   Credit_Limit  Total_Revolving_Bal  Total_Amt_Chng_Q4_Q1  Total_Trans_Amt  \\\n",
              "0      0.994115             0.060864              0.000105         0.089612   \n",
              "1      0.982755             0.102846              0.000183         0.153674   \n",
              "2      0.875447             0.000000              0.000664         0.483314   \n",
              "3      0.766485             0.582325              0.000325         0.270919   \n",
              "4      0.985358             0.000000              0.000454         0.170495   \n",
              "\n",
              "   Total_Ct_Chng_Q4_Q1  Avg_Utilization_Ratio    0    1    2    3  ...   20  \\\n",
              "0             0.000127               0.000005  0.0  1.0  0.0  0.0  ...  0.0   \n",
              "1             0.000442               0.000012  1.0  0.0  0.0  0.0  ...  0.0   \n",
              "2             0.000598               0.000000  0.0  1.0  0.0  0.0  ...  0.0   \n",
              "3             0.000540               0.000176  1.0  0.0  0.0  0.0  ...  0.0   \n",
              "4             0.000522               0.000000  0.0  1.0  0.0  0.0  ...  0.0   \n",
              "\n",
              "    21   22  Customer_Age  Dependent_count  Months_on_book  \\\n",
              "0  0.0  0.0            45                3              39   \n",
              "1  0.0  0.0            49                5              44   \n",
              "2  0.0  0.0            51                3              36   \n",
              "3  0.0  0.0            40                4              34   \n",
              "4  0.0  0.0            40                3              21   \n",
              "\n",
              "   Total_Relationship_Count  Months_Inactive_12_mon  Contacts_Count_12_mon  \\\n",
              "0                         5                       1                      3   \n",
              "1                         6                       1                      2   \n",
              "2                         4                       1                      0   \n",
              "3                         3                       4                      1   \n",
              "4                         5                       1                      0   \n",
              "\n",
              "   Total_Trans_Ct  \n",
              "0              42  \n",
              "1              33  \n",
              "2              20  \n",
              "3              20  \n",
              "4              28  \n",
              "\n",
              "[5 rows x 36 columns]"
            ],
            "text/html": [
              "\n",
              "  <div id=\"df-9386d9df-b58b-4c7f-9743-d8bf84676ced\">\n",
              "    <div class=\"colab-df-container\">\n",
              "      <div>\n",
              "<style scoped>\n",
              "    .dataframe tbody tr th:only-of-type {\n",
              "        vertical-align: middle;\n",
              "    }\n",
              "\n",
              "    .dataframe tbody tr th {\n",
              "        vertical-align: top;\n",
              "    }\n",
              "\n",
              "    .dataframe thead th {\n",
              "        text-align: right;\n",
              "    }\n",
              "</style>\n",
              "<table border=\"1\" class=\"dataframe\">\n",
              "  <thead>\n",
              "    <tr style=\"text-align: right;\">\n",
              "      <th></th>\n",
              "      <th>Credit_Limit</th>\n",
              "      <th>Total_Revolving_Bal</th>\n",
              "      <th>Total_Amt_Chng_Q4_Q1</th>\n",
              "      <th>Total_Trans_Amt</th>\n",
              "      <th>Total_Ct_Chng_Q4_Q1</th>\n",
              "      <th>Avg_Utilization_Ratio</th>\n",
              "      <th>0</th>\n",
              "      <th>1</th>\n",
              "      <th>2</th>\n",
              "      <th>3</th>\n",
              "      <th>...</th>\n",
              "      <th>20</th>\n",
              "      <th>21</th>\n",
              "      <th>22</th>\n",
              "      <th>Customer_Age</th>\n",
              "      <th>Dependent_count</th>\n",
              "      <th>Months_on_book</th>\n",
              "      <th>Total_Relationship_Count</th>\n",
              "      <th>Months_Inactive_12_mon</th>\n",
              "      <th>Contacts_Count_12_mon</th>\n",
              "      <th>Total_Trans_Ct</th>\n",
              "    </tr>\n",
              "  </thead>\n",
              "  <tbody>\n",
              "    <tr>\n",
              "      <th>0</th>\n",
              "      <td>0.994115</td>\n",
              "      <td>0.060864</td>\n",
              "      <td>0.000105</td>\n",
              "      <td>0.089612</td>\n",
              "      <td>0.000127</td>\n",
              "      <td>0.000005</td>\n",
              "      <td>0.0</td>\n",
              "      <td>1.0</td>\n",
              "      <td>0.0</td>\n",
              "      <td>0.0</td>\n",
              "      <td>...</td>\n",
              "      <td>0.0</td>\n",
              "      <td>0.0</td>\n",
              "      <td>0.0</td>\n",
              "      <td>45</td>\n",
              "      <td>3</td>\n",
              "      <td>39</td>\n",
              "      <td>5</td>\n",
              "      <td>1</td>\n",
              "      <td>3</td>\n",
              "      <td>42</td>\n",
              "    </tr>\n",
              "    <tr>\n",
              "      <th>1</th>\n",
              "      <td>0.982755</td>\n",
              "      <td>0.102846</td>\n",
              "      <td>0.000183</td>\n",
              "      <td>0.153674</td>\n",
              "      <td>0.000442</td>\n",
              "      <td>0.000012</td>\n",
              "      <td>1.0</td>\n",
              "      <td>0.0</td>\n",
              "      <td>0.0</td>\n",
              "      <td>0.0</td>\n",
              "      <td>...</td>\n",
              "      <td>0.0</td>\n",
              "      <td>0.0</td>\n",
              "      <td>0.0</td>\n",
              "      <td>49</td>\n",
              "      <td>5</td>\n",
              "      <td>44</td>\n",
              "      <td>6</td>\n",
              "      <td>1</td>\n",
              "      <td>2</td>\n",
              "      <td>33</td>\n",
              "    </tr>\n",
              "    <tr>\n",
              "      <th>2</th>\n",
              "      <td>0.875447</td>\n",
              "      <td>0.000000</td>\n",
              "      <td>0.000664</td>\n",
              "      <td>0.483314</td>\n",
              "      <td>0.000598</td>\n",
              "      <td>0.000000</td>\n",
              "      <td>0.0</td>\n",
              "      <td>1.0</td>\n",
              "      <td>0.0</td>\n",
              "      <td>0.0</td>\n",
              "      <td>...</td>\n",
              "      <td>0.0</td>\n",
              "      <td>0.0</td>\n",
              "      <td>0.0</td>\n",
              "      <td>51</td>\n",
              "      <td>3</td>\n",
              "      <td>36</td>\n",
              "      <td>4</td>\n",
              "      <td>1</td>\n",
              "      <td>0</td>\n",
              "      <td>20</td>\n",
              "    </tr>\n",
              "    <tr>\n",
              "      <th>3</th>\n",
              "      <td>0.766485</td>\n",
              "      <td>0.582325</td>\n",
              "      <td>0.000325</td>\n",
              "      <td>0.270919</td>\n",
              "      <td>0.000540</td>\n",
              "      <td>0.000176</td>\n",
              "      <td>1.0</td>\n",
              "      <td>0.0</td>\n",
              "      <td>0.0</td>\n",
              "      <td>0.0</td>\n",
              "      <td>...</td>\n",
              "      <td>0.0</td>\n",
              "      <td>0.0</td>\n",
              "      <td>0.0</td>\n",
              "      <td>40</td>\n",
              "      <td>4</td>\n",
              "      <td>34</td>\n",
              "      <td>3</td>\n",
              "      <td>4</td>\n",
              "      <td>1</td>\n",
              "      <td>20</td>\n",
              "    </tr>\n",
              "    <tr>\n",
              "      <th>4</th>\n",
              "      <td>0.985358</td>\n",
              "      <td>0.000000</td>\n",
              "      <td>0.000454</td>\n",
              "      <td>0.170495</td>\n",
              "      <td>0.000522</td>\n",
              "      <td>0.000000</td>\n",
              "      <td>0.0</td>\n",
              "      <td>1.0</td>\n",
              "      <td>0.0</td>\n",
              "      <td>0.0</td>\n",
              "      <td>...</td>\n",
              "      <td>0.0</td>\n",
              "      <td>0.0</td>\n",
              "      <td>0.0</td>\n",
              "      <td>40</td>\n",
              "      <td>3</td>\n",
              "      <td>21</td>\n",
              "      <td>5</td>\n",
              "      <td>1</td>\n",
              "      <td>0</td>\n",
              "      <td>28</td>\n",
              "    </tr>\n",
              "  </tbody>\n",
              "</table>\n",
              "<p>5 rows × 36 columns</p>\n",
              "</div>\n",
              "      <button class=\"colab-df-convert\" onclick=\"convertToInteractive('df-9386d9df-b58b-4c7f-9743-d8bf84676ced')\"\n",
              "              title=\"Convert this dataframe to an interactive table.\"\n",
              "              style=\"display:none;\">\n",
              "        \n",
              "  <svg xmlns=\"http://www.w3.org/2000/svg\" height=\"24px\"viewBox=\"0 0 24 24\"\n",
              "       width=\"24px\">\n",
              "    <path d=\"M0 0h24v24H0V0z\" fill=\"none\"/>\n",
              "    <path d=\"M18.56 5.44l.94 2.06.94-2.06 2.06-.94-2.06-.94-.94-2.06-.94 2.06-2.06.94zm-11 1L8.5 8.5l.94-2.06 2.06-.94-2.06-.94L8.5 2.5l-.94 2.06-2.06.94zm10 10l.94 2.06.94-2.06 2.06-.94-2.06-.94-.94-2.06-.94 2.06-2.06.94z\"/><path d=\"M17.41 7.96l-1.37-1.37c-.4-.4-.92-.59-1.43-.59-.52 0-1.04.2-1.43.59L10.3 9.45l-7.72 7.72c-.78.78-.78 2.05 0 2.83L4 21.41c.39.39.9.59 1.41.59.51 0 1.02-.2 1.41-.59l7.78-7.78 2.81-2.81c.8-.78.8-2.07 0-2.86zM5.41 20L4 18.59l7.72-7.72 1.47 1.35L5.41 20z\"/>\n",
              "  </svg>\n",
              "      </button>\n",
              "      \n",
              "  <style>\n",
              "    .colab-df-container {\n",
              "      display:flex;\n",
              "      flex-wrap:wrap;\n",
              "      gap: 12px;\n",
              "    }\n",
              "\n",
              "    .colab-df-convert {\n",
              "      background-color: #E8F0FE;\n",
              "      border: none;\n",
              "      border-radius: 50%;\n",
              "      cursor: pointer;\n",
              "      display: none;\n",
              "      fill: #1967D2;\n",
              "      height: 32px;\n",
              "      padding: 0 0 0 0;\n",
              "      width: 32px;\n",
              "    }\n",
              "\n",
              "    .colab-df-convert:hover {\n",
              "      background-color: #E2EBFA;\n",
              "      box-shadow: 0px 1px 2px rgba(60, 64, 67, 0.3), 0px 1px 3px 1px rgba(60, 64, 67, 0.15);\n",
              "      fill: #174EA6;\n",
              "    }\n",
              "\n",
              "    [theme=dark] .colab-df-convert {\n",
              "      background-color: #3B4455;\n",
              "      fill: #D2E3FC;\n",
              "    }\n",
              "\n",
              "    [theme=dark] .colab-df-convert:hover {\n",
              "      background-color: #434B5C;\n",
              "      box-shadow: 0px 1px 3px 1px rgba(0, 0, 0, 0.15);\n",
              "      filter: drop-shadow(0px 1px 2px rgba(0, 0, 0, 0.3));\n",
              "      fill: #FFFFFF;\n",
              "    }\n",
              "  </style>\n",
              "\n",
              "      <script>\n",
              "        const buttonEl =\n",
              "          document.querySelector('#df-9386d9df-b58b-4c7f-9743-d8bf84676ced button.colab-df-convert');\n",
              "        buttonEl.style.display =\n",
              "          google.colab.kernel.accessAllowed ? 'block' : 'none';\n",
              "\n",
              "        async function convertToInteractive(key) {\n",
              "          const element = document.querySelector('#df-9386d9df-b58b-4c7f-9743-d8bf84676ced');\n",
              "          const dataTable =\n",
              "            await google.colab.kernel.invokeFunction('convertToInteractive',\n",
              "                                                     [key], {});\n",
              "          if (!dataTable) return;\n",
              "\n",
              "          const docLinkHtml = 'Like what you see? Visit the ' +\n",
              "            '<a target=\"_blank\" href=https://colab.research.google.com/notebooks/data_table.ipynb>data table notebook</a>'\n",
              "            + ' to learn more about interactive tables.';\n",
              "          element.innerHTML = '';\n",
              "          dataTable['output_type'] = 'display_data';\n",
              "          await google.colab.output.renderOutput(dataTable, element);\n",
              "          const docLink = document.createElement('div');\n",
              "          docLink.innerHTML = docLinkHtml;\n",
              "          element.appendChild(docLink);\n",
              "        }\n",
              "      </script>\n",
              "    </div>\n",
              "  </div>\n",
              "  "
            ]
          },
          "metadata": {},
          "execution_count": 35
        }
      ]
    },
    {
      "cell_type": "markdown",
      "source": [
        "## Dividindo os dados em treino e teste"
      ],
      "metadata": {
        "id": "B9zgu1OK9_tU"
      }
    },
    {
      "cell_type": "markdown",
      "source": [
        "- Vamos prosseguir a analise utilizando os dados normalizados pela biblioteca Sklearn\n",
        "- A divisão será feita 70% para treino e 30% para validação"
      ],
      "metadata": {
        "id": "rJ8q3YcoHd0w"
      }
    },
    {
      "cell_type": "code",
      "source": [
        "from sklearn.model_selection import train_test_split\n",
        "\n",
        "\n",
        "y = data['Attrition_Flag']\n",
        "X = final_data\n",
        "\n",
        "X_train, X_val, y_train, y_val = train_test_split(X, y, random_state=0, train_size=0.7)"
      ],
      "metadata": {
        "id": "WXx6C_De-F3G"
      },
      "execution_count": null,
      "outputs": []
    },
    {
      "cell_type": "markdown",
      "source": [
        "# Modelagem"
      ],
      "metadata": {
        "id": "ebYy-1AK68LN"
      }
    },
    {
      "cell_type": "markdown",
      "source": [
        "## Implementação manual de Regressão Logística"
      ],
      "metadata": {
        "id": "bifn-JfB7VzA"
      }
    },
    {
      "cell_type": "code",
      "source": [
        "class RegressaoLogistica:\n",
        "  def __init__(self, lr=0.001, n_iters=1000):\n",
        "    self.lr = lr\n",
        "    self.n_iters = n_iters\n",
        "    self.weights = None\n",
        "    self.bias = None\n",
        "\n",
        "  def fit(self, X, y):\n",
        "    # Iniciando os parametros\n",
        "    n_samples, n_features = X.shape\n",
        "    self.weights = np.zeros(n_features)\n",
        "    self.bias = 0\n",
        "\n",
        "    # Gradient Descent\n",
        "    for _ in range(self.n_iters):\n",
        "      linear_model = np.dot(X, self.weights) + self.bias\n",
        "      y_predicted = self._sigmoid(linear_model)\n",
        "\n",
        "      dw = (1 / n_samples) * np.dot(X.T, (y_predicted - y))\n",
        "      db = (1 / n_samples) * np.sum(y_predicted - y)\n",
        "\n",
        "      self.weights -= self.lr * dw\n",
        "      self.bias -= self.lr * db\n",
        "\n",
        "  def predict(self, X, threshold=0.5):\n",
        "    linear_model = np.dot(X, self.weights) + self.bias\n",
        "    y_predicted = self._sigmoid(linear_model)\n",
        "    y_predicted_cls = [1 if i > threshold else 0 for i in y_predicted]\n",
        "    return y_predicted_cls\n",
        "\n",
        "  def _sigmoid(self, x):\n",
        "    return 1 / (1 + np.exp(-x))"
      ],
      "metadata": {
        "id": "4y312YAc59-X"
      },
      "execution_count": null,
      "outputs": []
    },
    {
      "cell_type": "markdown",
      "source": [
        "## Predições usando a implementação manual da Regressão Logística"
      ],
      "metadata": {
        "id": "PjDrbsHPFwKB"
      }
    },
    {
      "cell_type": "code",
      "source": [
        "rl = RegressaoLogistica()\n",
        "rl.fit(X_train, y_train)\n",
        "predicoes = rl.predict(X_val, threshold=0.5)"
      ],
      "metadata": {
        "id": "16f3tFCEDsYY"
      },
      "execution_count": null,
      "outputs": []
    },
    {
      "cell_type": "markdown",
      "source": [
        "## Predições usando Regressão Logística da biblioteca Sklearn"
      ],
      "metadata": {
        "id": "iMt_VVWIOUx_"
      }
    },
    {
      "cell_type": "code",
      "source": [
        "from sklearn.linear_model import LogisticRegression\n",
        "\n",
        "lr = LogisticRegression(random_state=0, max_iter=1000)\n",
        "lr.fit(X_train, y_train)\n",
        "predicoes_sklearn = lr.predict(X_val)"
      ],
      "metadata": {
        "id": "3lZltbjwF7kZ"
      },
      "execution_count": null,
      "outputs": []
    },
    {
      "cell_type": "markdown",
      "source": [
        "## Métrica para avaliar os modelos"
      ],
      "metadata": {
        "id": "SjPVOn2Of9C-"
      }
    },
    {
      "cell_type": "markdown",
      "source": [
        "- O ROC possui dois parâmetros:\n",
        "1. Taxa de verdadeiro positivo (True Positive Rate), que é dado por true positives / (true positives + false negatives)\n",
        "2. Taxa de falso positivo (False Positive Rate), que é dado por false positives / (false positives + true negatives)\n",
        "- Assim, na tentativa de simplificar a análise da ROC, a AUC (“area under the ROC curve”) nada mais é que uma maneira de resumir a curva ROC em um único valor, agregando todos os limiares da ROC, calculando a “área sob a curva”.\n",
        "\n",
        "\n",
        "Fontes:\n",
        "- https://medium.com/bio-data-blog/entenda-o-que-%C3%A9-auc-e-roc-nos-modelos-de-machine-learning-8191fb4df772\n",
        "- https://scikit-learn.org/stable/modules/generated/sklearn.metrics.roc_auc_score.html"
      ],
      "metadata": {
        "id": "7kMoOS8HyV3j"
      }
    },
    {
      "cell_type": "code",
      "source": [
        "from sklearn.metrics import roc_auc_score\n",
        "\n",
        "print(f\"Implantação manual: ROC-AUC: {roc_auc_score(y_val, predicoes, average=None)}\")\n",
        "print(f\"Implantação Sklearn: ROC-AUC: {roc_auc_score(y_val, predicoes_sklearn, average=None)}\")"
      ],
      "metadata": {
        "colab": {
          "base_uri": "https://localhost:8080/"
        },
        "id": "vvlpghNQfOST",
        "outputId": "b70a4f7a-c4a0-44dc-ccbf-ac035e0a155d"
      },
      "execution_count": null,
      "outputs": [
        {
          "output_type": "stream",
          "name": "stdout",
          "text": [
            "Implantação manual: ROC-AUC: 0.5376003525072844\n",
            "Implantação Sklearn: ROC-AUC: 0.7349000040752287\n"
          ]
        }
      ]
    },
    {
      "cell_type": "markdown",
      "source": [
        "### Melhorando a implantação manual da regressão logistíca "
      ],
      "metadata": {
        "id": "PW3gZBE-l267"
      }
    },
    {
      "cell_type": "markdown",
      "source": [
        "Threshold na regressão logistíca é o valor de corte para classificar uma predição como verdadeira ou falsa. "
      ],
      "metadata": {
        "id": "1FCifGqtwQCe"
      }
    },
    {
      "cell_type": "markdown",
      "source": [
        "- Selecionando o threshold ideal\n",
        "- Tendo em vista o elevado custo computacional, vamos dividir em duas partes. \n",
        "- Primeiramente vamos buscar o melhor valor entre 0 e 1 com passo de 0.1."
      ],
      "metadata": {
        "id": "G_B-pziBvG9H"
      }
    },
    {
      "cell_type": "code",
      "source": [
        "roc = 0\n",
        "i_ = 0\n",
        "for i in np.arange(0.0, 1.0, 0.1):\n",
        "  rl = RegressaoLogistica()\n",
        "  rl.fit(X_train, y_train)\n",
        "  predicoes = rl.predict(X_val, threshold=i)\n",
        "  roc_calc = roc_auc_score(y_val, predicoes, average=None)\n",
        "  if roc_calc > roc:\n",
        "    roc = roc_calc\n",
        "    i_ = i\n",
        "print(roc)\n",
        "print(i_)"
      ],
      "metadata": {
        "colab": {
          "base_uri": "https://localhost:8080/"
        },
        "id": "BKZRi5vLl_S2",
        "outputId": "f43a914f-1e55-4160-8565-16d118c04570"
      },
      "execution_count": null,
      "outputs": [
        {
          "output_type": "stream",
          "name": "stdout",
          "text": [
            "0.7789201153289729\n",
            "0.8\n"
          ]
        }
      ]
    },
    {
      "cell_type": "markdown",
      "source": [
        "Encontramos o melhor valor como sendo 0.8. Agora vamos verificar o melhor valor entre 0.7 e 0.9 com passo de 0.01."
      ],
      "metadata": {
        "id": "XQwZ1Nd9vbLT"
      }
    },
    {
      "cell_type": "code",
      "source": [
        "roc = 0\n",
        "i_ = 0\n",
        "for i in np.arange(0.7, 0.9, 0.01):\n",
        "  rl = RegressaoLogistica()\n",
        "  rl.fit(X_train, y_train)\n",
        "  predicoes = rl.predict(X_val, round(i, 2))\n",
        "  roc_calc = roc_auc_score(y_val, predicoes, average=None)\n",
        "  if roc_calc > roc:\n",
        "    roc = roc_calc\n",
        "    i_ = i\n",
        "print(roc)\n",
        "print(i_)"
      ],
      "metadata": {
        "colab": {
          "base_uri": "https://localhost:8080/"
        },
        "id": "VzfO2eiWl2Gf",
        "outputId": "a4ac1705-1b6c-44fe-fd5c-130f51955125"
      },
      "execution_count": null,
      "outputs": [
        {
          "output_type": "stream",
          "name": "stdout",
          "text": [
            "0.7902658067934063\n",
            "0.8300000000000001\n"
          ]
        }
      ]
    },
    {
      "cell_type": "code",
      "source": [
        "rl = RegressaoLogistica()\n",
        "rl.fit(X_train, y_train)\n",
        "predicoes = rl.predict(X_val, threshold=0.83)"
      ],
      "metadata": {
        "id": "1wXhe3Q50eUP"
      },
      "execution_count": null,
      "outputs": []
    },
    {
      "cell_type": "markdown",
      "source": [
        "Implementando o threshold como 0.83 obtemos um roc-auc de 0.79 superando a predição do modelo sklearn. Há métodos para melhorar a qualidade do modelo sklearn, porem não é alvo deste projeto."
      ],
      "metadata": {
        "id": "s4CnmUBHxB6e"
      }
    },
    {
      "cell_type": "code",
      "source": [
        "#Curva AUC\n",
        "fpr, tpr, _ = metrics.roc_curve(y_val,  predicoes)\n",
        "auc = metrics.roc_auc_score(y_val, predicoes)\n",
        "\n",
        "fpr_sklearn, tpr_sklearn, _ = metrics.roc_curve(y_val,  predicoes_sklearn)\n",
        "auc_sklearn = metrics.roc_auc_score(y_val, predicoes_sklearn)\n",
        "\n",
        "sns.lineplot(x=fpr_sklearn, y=tpr_sklearn, label=\"Sklearn, auc=\"+str(auc_sklearn))\n",
        "sns.lineplot(x=fpr, y=tpr, label=\"Manual, auc=\"+str(auc))\n",
        "\n",
        "plt.xlabel('False Positive Rate')\n",
        "plt.ylabel('True Positive Rate')\n",
        "plt.legend(loc=4)\n",
        "plt.show()"
      ],
      "metadata": {
        "colab": {
          "base_uri": "https://localhost:8080/",
          "height": 279
        },
        "id": "B_GLuwysyjbb",
        "outputId": "1d7131cc-41fc-40f1-d9da-39b9ea1b49cc"
      },
      "execution_count": null,
      "outputs": [
        {
          "output_type": "display_data",
          "data": {
            "text/plain": [
              "<Figure size 432x288 with 1 Axes>"
            ],
            "image/png": "[encoded data removed]"
          },
          "metadata": {
            "needs_background": "light"
          }
        }
      ]
    },
    {
      "cell_type": "markdown",
      "source": [
        "# Conclusão final\n",
        "\n",
        "- Desenvolvemos um modelo preditivo para identificar clientes propensos a evadir.\n",
        "- Nosso modelo deve ser usado em outras carteiras de clientes para identificar os clientes propensos a evadir e dessa forma rete-los através de uma abordagem preventiva."
      ],
      "metadata": {
        "id": "AYZ3J6VUPlms"
      }
    }
  ]
}