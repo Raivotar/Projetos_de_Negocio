{
  "nbformat": 4,
  "nbformat_minor": 0,
  "metadata": {
    "colab": {
      "name": "Projeto_de_Negocio.ipynb",
      "provenance": [],
      "collapsed_sections": [],
      "toc_visible": true,
      "authorship_tag": "ABX9TyNm5RBUCZ8JPjVZQtyviG+2",
      "include_colab_link": true
    },
    "kernelspec": {
      "name": "python3",
      "display_name": "Python 3"
    },
    "language_info": {
      "name": "python"
    }
  },
  "cells": [
    {
      "cell_type": "markdown",
      "metadata": {
        "id": "view-in-github",
        "colab_type": "text"
      },
      "source": [
        "<a href=\"https://colab.research.google.com/github/Raivotar/Projetos_de_Negocio/blob/main/Colab/Projeto_de_Negocio.ipynb\" target=\"_parent\"><img src=\"https://colab.research.google.com/assets/colab-badge.svg\" alt=\"Open In Colab\"/></a>"
      ]
    },
    {
      "cell_type": "markdown",
      "source": [
        "# Entendendo o Problema:\n",
        "- Gerente do banco está preocupado com a evasão de clientes que usam cartão de crédito e gostaria de uma relação dos clientes mais propensos a evadir para fazer uma abordagem preventiva visando reter esses clientes."
      ],
      "metadata": {
        "id": "XYdkQ5f7nhjf"
      }
    },
    {
      "cell_type": "markdown",
      "source": [
        "#Exploração dos dados"
      ],
      "metadata": {
        "id": "KstJKMCpTLRc"
      }
    },
    {
      "cell_type": "code",
      "execution_count": 1,
      "metadata": {
        "id": "HKHnfByvjobs"
      },
      "outputs": [],
      "source": [
        "import pandas as pd\n",
        "import matplotlib.pyplot as plt\n",
        "import scipy.stats as stats\n",
        "import seaborn as sns\n",
        "from scipy.stats import ranksums\n",
        "import matplotlib.pyplot as plt\n",
        "import numpy as np"
      ]
    },
    {
      "cell_type": "code",
      "source": [
        "data = pd.read_csv(\"https://raw.githubusercontent.com/Raivotar/Projetos_de_Negocio/main/Dados/BankChurners.csv\")"
      ],
      "metadata": {
        "id": "fzCc3wjNjr1B"
      },
      "execution_count": 2,
      "outputs": []
    },
    {
      "cell_type": "code",
      "source": [
        "data.columns"
      ],
      "metadata": {
        "colab": {
          "base_uri": "https://localhost:8080/"
        },
        "id": "Z3CwHHuzj7vd",
        "outputId": "34ffe156-0632-4e44-a6da-af30bd602223"
      },
      "execution_count": 3,
      "outputs": [
        {
          "output_type": "execute_result",
          "data": {
            "text/plain": [
              "Index(['CLIENTNUM', 'Attrition_Flag', 'Customer_Age', 'Gender',\n",
              "       'Dependent_count', 'Education_Level', 'Marital_Status',\n",
              "       'Income_Category', 'Card_Category', 'Months_on_book',\n",
              "       'Total_Relationship_Count', 'Months_Inactive_12_mon',\n",
              "       'Contacts_Count_12_mon', 'Credit_Limit', 'Total_Revolving_Bal',\n",
              "       'Avg_Open_To_Buy', 'Total_Amt_Chng_Q4_Q1', 'Total_Trans_Amt',\n",
              "       'Total_Trans_Ct', 'Total_Ct_Chng_Q4_Q1', 'Avg_Utilization_Ratio',\n",
              "       'Naive_Bayes_Classifier_Attrition_Flag_Card_Category_Contacts_Count_12_mon_Dependent_count_Education_Level_Months_Inactive_12_mon_1',\n",
              "       'Naive_Bayes_Classifier_Attrition_Flag_Card_Category_Contacts_Count_12_mon_Dependent_count_Education_Level_Months_Inactive_12_mon_2'],\n",
              "      dtype='object')"
            ]
          },
          "metadata": {},
          "execution_count": 3
        }
      ]
    },
    {
      "cell_type": "markdown",
      "source": [
        "Na documentação do banco de dados é informado para desconsiderar as duas colunas que estamos excluindo."
      ],
      "metadata": {
        "id": "w9GUZg-4TInZ"
      }
    },
    {
      "cell_type": "code",
      "source": [
        "data.drop(['Naive_Bayes_Classifier_Attrition_Flag_Card_Category_Contacts_Count_12_mon_Dependent_count_Education_Level_Months_Inactive_12_mon_1',\n",
        "           'Naive_Bayes_Classifier_Attrition_Flag_Card_Category_Contacts_Count_12_mon_Dependent_count_Education_Level_Months_Inactive_12_mon_2'],\n",
        "          axis=1, inplace=True)"
      ],
      "metadata": {
        "id": "OG6gHptvkHQK"
      },
      "execution_count": 4,
      "outputs": []
    },
    {
      "cell_type": "markdown",
      "source": [
        "Não há valores nulos"
      ],
      "metadata": {
        "id": "nCF1RhrZT_K3"
      }
    },
    {
      "cell_type": "code",
      "source": [
        "data.isna().sum()"
      ],
      "metadata": {
        "colab": {
          "base_uri": "https://localhost:8080/"
        },
        "id": "ZQ_2MopukSUv",
        "outputId": "36bb9236-8202-4384-eb58-f679b92bb7d1"
      },
      "execution_count": 5,
      "outputs": [
        {
          "output_type": "execute_result",
          "data": {
            "text/plain": [
              "CLIENTNUM                   0\n",
              "Attrition_Flag              0\n",
              "Customer_Age                0\n",
              "Gender                      0\n",
              "Dependent_count             0\n",
              "Education_Level             0\n",
              "Marital_Status              0\n",
              "Income_Category             0\n",
              "Card_Category               0\n",
              "Months_on_book              0\n",
              "Total_Relationship_Count    0\n",
              "Months_Inactive_12_mon      0\n",
              "Contacts_Count_12_mon       0\n",
              "Credit_Limit                0\n",
              "Total_Revolving_Bal         0\n",
              "Avg_Open_To_Buy             0\n",
              "Total_Amt_Chng_Q4_Q1        0\n",
              "Total_Trans_Amt             0\n",
              "Total_Trans_Ct              0\n",
              "Total_Ct_Chng_Q4_Q1         0\n",
              "Avg_Utilization_Ratio       0\n",
              "dtype: int64"
            ]
          },
          "metadata": {},
          "execution_count": 5
        }
      ]
    },
    {
      "cell_type": "markdown",
      "source": [
        "Visão geral dos dados"
      ],
      "metadata": {
        "id": "4c0z58rOUP7l"
      }
    },
    {
      "cell_type": "code",
      "source": [
        "data.set_index(\"CLIENTNUM\", inplace=True)\n",
        "data.head()"
      ],
      "metadata": {
        "colab": {
          "base_uri": "https://localhost:8080/",
          "height": 388
        },
        "id": "kBTFpGP1kUc9",
        "outputId": "524b65d8-8bfb-49eb-cfd1-775cf1039d03"
      },
      "execution_count": 6,
      "outputs": [
        {
          "output_type": "execute_result",
          "data": {
            "text/plain": [
              "              Attrition_Flag  Customer_Age Gender  Dependent_count  \\\n",
              "CLIENTNUM                                                            \n",
              "768805383  Existing Customer            45      M                3   \n",
              "818770008  Existing Customer            49      F                5   \n",
              "713982108  Existing Customer            51      M                3   \n",
              "769911858  Existing Customer            40      F                4   \n",
              "709106358  Existing Customer            40      M                3   \n",
              "\n",
              "          Education_Level Marital_Status Income_Category Card_Category  \\\n",
              "CLIENTNUM                                                                \n",
              "768805383     High School        Married     $60K - $80K          Blue   \n",
              "818770008        Graduate         Single  Less than $40K          Blue   \n",
              "713982108        Graduate        Married    $80K - $120K          Blue   \n",
              "769911858     High School        Unknown  Less than $40K          Blue   \n",
              "709106358      Uneducated        Married     $60K - $80K          Blue   \n",
              "\n",
              "           Months_on_book  Total_Relationship_Count  Months_Inactive_12_mon  \\\n",
              "CLIENTNUM                                                                     \n",
              "768805383              39                         5                       1   \n",
              "818770008              44                         6                       1   \n",
              "713982108              36                         4                       1   \n",
              "769911858              34                         3                       4   \n",
              "709106358              21                         5                       1   \n",
              "\n",
              "           Contacts_Count_12_mon  Credit_Limit  Total_Revolving_Bal  \\\n",
              "CLIENTNUM                                                             \n",
              "768805383                      3       12691.0                  777   \n",
              "818770008                      2        8256.0                  864   \n",
              "713982108                      0        3418.0                    0   \n",
              "769911858                      1        3313.0                 2517   \n",
              "709106358                      0        4716.0                    0   \n",
              "\n",
              "           Avg_Open_To_Buy  Total_Amt_Chng_Q4_Q1  Total_Trans_Amt  \\\n",
              "CLIENTNUM                                                           \n",
              "768805383          11914.0                 1.335             1144   \n",
              "818770008           7392.0                 1.541             1291   \n",
              "713982108           3418.0                 2.594             1887   \n",
              "769911858            796.0                 1.405             1171   \n",
              "709106358           4716.0                 2.175              816   \n",
              "\n",
              "           Total_Trans_Ct  Total_Ct_Chng_Q4_Q1  Avg_Utilization_Ratio  \n",
              "CLIENTNUM                                                              \n",
              "768805383              42                1.625                  0.061  \n",
              "818770008              33                3.714                  0.105  \n",
              "713982108              20                2.333                  0.000  \n",
              "769911858              20                2.333                  0.760  \n",
              "709106358              28                2.500                  0.000  "
            ],
            "text/html": [
              "\n",
              "  <div id=\"df-0269194a-20fc-49d7-a34d-5c174e639824\">\n",
              "    <div class=\"colab-df-container\">\n",
              "      <div>\n",
              "<style scoped>\n",
              "    .dataframe tbody tr th:only-of-type {\n",
              "        vertical-align: middle;\n",
              "    }\n",
              "\n",
              "    .dataframe tbody tr th {\n",
              "        vertical-align: top;\n",
              "    }\n",
              "\n",
              "    .dataframe thead th {\n",
              "        text-align: right;\n",
              "    }\n",
              "</style>\n",
              "<table border=\"1\" class=\"dataframe\">\n",
              "  <thead>\n",
              "    <tr style=\"text-align: right;\">\n",
              "      <th></th>\n",
              "      <th>Attrition_Flag</th>\n",
              "      <th>Customer_Age</th>\n",
              "      <th>Gender</th>\n",
              "      <th>Dependent_count</th>\n",
              "      <th>Education_Level</th>\n",
              "      <th>Marital_Status</th>\n",
              "      <th>Income_Category</th>\n",
              "      <th>Card_Category</th>\n",
              "      <th>Months_on_book</th>\n",
              "      <th>Total_Relationship_Count</th>\n",
              "      <th>Months_Inactive_12_mon</th>\n",
              "      <th>Contacts_Count_12_mon</th>\n",
              "      <th>Credit_Limit</th>\n",
              "      <th>Total_Revolving_Bal</th>\n",
              "      <th>Avg_Open_To_Buy</th>\n",
              "      <th>Total_Amt_Chng_Q4_Q1</th>\n",
              "      <th>Total_Trans_Amt</th>\n",
              "      <th>Total_Trans_Ct</th>\n",
              "      <th>Total_Ct_Chng_Q4_Q1</th>\n",
              "      <th>Avg_Utilization_Ratio</th>\n",
              "    </tr>\n",
              "    <tr>\n",
              "      <th>CLIENTNUM</th>\n",
              "      <th></th>\n",
              "      <th></th>\n",
              "      <th></th>\n",
              "      <th></th>\n",
              "      <th></th>\n",
              "      <th></th>\n",
              "      <th></th>\n",
              "      <th></th>\n",
              "      <th></th>\n",
              "      <th></th>\n",
              "      <th></th>\n",
              "      <th></th>\n",
              "      <th></th>\n",
              "      <th></th>\n",
              "      <th></th>\n",
              "      <th></th>\n",
              "      <th></th>\n",
              "      <th></th>\n",
              "      <th></th>\n",
              "      <th></th>\n",
              "    </tr>\n",
              "  </thead>\n",
              "  <tbody>\n",
              "    <tr>\n",
              "      <th>768805383</th>\n",
              "      <td>Existing Customer</td>\n",
              "      <td>45</td>\n",
              "      <td>M</td>\n",
              "      <td>3</td>\n",
              "      <td>High School</td>\n",
              "      <td>Married</td>\n",
              "      <td>$60K - $80K</td>\n",
              "      <td>Blue</td>\n",
              "      <td>39</td>\n",
              "      <td>5</td>\n",
              "      <td>1</td>\n",
              "      <td>3</td>\n",
              "      <td>12691.0</td>\n",
              "      <td>777</td>\n",
              "      <td>11914.0</td>\n",
              "      <td>1.335</td>\n",
              "      <td>1144</td>\n",
              "      <td>42</td>\n",
              "      <td>1.625</td>\n",
              "      <td>0.061</td>\n",
              "    </tr>\n",
              "    <tr>\n",
              "      <th>818770008</th>\n",
              "      <td>Existing Customer</td>\n",
              "      <td>49</td>\n",
              "      <td>F</td>\n",
              "      <td>5</td>\n",
              "      <td>Graduate</td>\n",
              "      <td>Single</td>\n",
              "      <td>Less than $40K</td>\n",
              "      <td>Blue</td>\n",
              "      <td>44</td>\n",
              "      <td>6</td>\n",
              "      <td>1</td>\n",
              "      <td>2</td>\n",
              "      <td>8256.0</td>\n",
              "      <td>864</td>\n",
              "      <td>7392.0</td>\n",
              "      <td>1.541</td>\n",
              "      <td>1291</td>\n",
              "      <td>33</td>\n",
              "      <td>3.714</td>\n",
              "      <td>0.105</td>\n",
              "    </tr>\n",
              "    <tr>\n",
              "      <th>713982108</th>\n",
              "      <td>Existing Customer</td>\n",
              "      <td>51</td>\n",
              "      <td>M</td>\n",
              "      <td>3</td>\n",
              "      <td>Graduate</td>\n",
              "      <td>Married</td>\n",
              "      <td>$80K - $120K</td>\n",
              "      <td>Blue</td>\n",
              "      <td>36</td>\n",
              "      <td>4</td>\n",
              "      <td>1</td>\n",
              "      <td>0</td>\n",
              "      <td>3418.0</td>\n",
              "      <td>0</td>\n",
              "      <td>3418.0</td>\n",
              "      <td>2.594</td>\n",
              "      <td>1887</td>\n",
              "      <td>20</td>\n",
              "      <td>2.333</td>\n",
              "      <td>0.000</td>\n",
              "    </tr>\n",
              "    <tr>\n",
              "      <th>769911858</th>\n",
              "      <td>Existing Customer</td>\n",
              "      <td>40</td>\n",
              "      <td>F</td>\n",
              "      <td>4</td>\n",
              "      <td>High School</td>\n",
              "      <td>Unknown</td>\n",
              "      <td>Less than $40K</td>\n",
              "      <td>Blue</td>\n",
              "      <td>34</td>\n",
              "      <td>3</td>\n",
              "      <td>4</td>\n",
              "      <td>1</td>\n",
              "      <td>3313.0</td>\n",
              "      <td>2517</td>\n",
              "      <td>796.0</td>\n",
              "      <td>1.405</td>\n",
              "      <td>1171</td>\n",
              "      <td>20</td>\n",
              "      <td>2.333</td>\n",
              "      <td>0.760</td>\n",
              "    </tr>\n",
              "    <tr>\n",
              "      <th>709106358</th>\n",
              "      <td>Existing Customer</td>\n",
              "      <td>40</td>\n",
              "      <td>M</td>\n",
              "      <td>3</td>\n",
              "      <td>Uneducated</td>\n",
              "      <td>Married</td>\n",
              "      <td>$60K - $80K</td>\n",
              "      <td>Blue</td>\n",
              "      <td>21</td>\n",
              "      <td>5</td>\n",
              "      <td>1</td>\n",
              "      <td>0</td>\n",
              "      <td>4716.0</td>\n",
              "      <td>0</td>\n",
              "      <td>4716.0</td>\n",
              "      <td>2.175</td>\n",
              "      <td>816</td>\n",
              "      <td>28</td>\n",
              "      <td>2.500</td>\n",
              "      <td>0.000</td>\n",
              "    </tr>\n",
              "  </tbody>\n",
              "</table>\n",
              "</div>\n",
              "      <button class=\"colab-df-convert\" onclick=\"convertToInteractive('df-0269194a-20fc-49d7-a34d-5c174e639824')\"\n",
              "              title=\"Convert this dataframe to an interactive table.\"\n",
              "              style=\"display:none;\">\n",
              "        \n",
              "  <svg xmlns=\"http://www.w3.org/2000/svg\" height=\"24px\"viewBox=\"0 0 24 24\"\n",
              "       width=\"24px\">\n",
              "    <path d=\"M0 0h24v24H0V0z\" fill=\"none\"/>\n",
              "    <path d=\"M18.56 5.44l.94 2.06.94-2.06 2.06-.94-2.06-.94-.94-2.06-.94 2.06-2.06.94zm-11 1L8.5 8.5l.94-2.06 2.06-.94-2.06-.94L8.5 2.5l-.94 2.06-2.06.94zm10 10l.94 2.06.94-2.06 2.06-.94-2.06-.94-.94-2.06-.94 2.06-2.06.94z\"/><path d=\"M17.41 7.96l-1.37-1.37c-.4-.4-.92-.59-1.43-.59-.52 0-1.04.2-1.43.59L10.3 9.45l-7.72 7.72c-.78.78-.78 2.05 0 2.83L4 21.41c.39.39.9.59 1.41.59.51 0 1.02-.2 1.41-.59l7.78-7.78 2.81-2.81c.8-.78.8-2.07 0-2.86zM5.41 20L4 18.59l7.72-7.72 1.47 1.35L5.41 20z\"/>\n",
              "  </svg>\n",
              "      </button>\n",
              "      \n",
              "  <style>\n",
              "    .colab-df-container {\n",
              "      display:flex;\n",
              "      flex-wrap:wrap;\n",
              "      gap: 12px;\n",
              "    }\n",
              "\n",
              "    .colab-df-convert {\n",
              "      background-color: #E8F0FE;\n",
              "      border: none;\n",
              "      border-radius: 50%;\n",
              "      cursor: pointer;\n",
              "      display: none;\n",
              "      fill: #1967D2;\n",
              "      height: 32px;\n",
              "      padding: 0 0 0 0;\n",
              "      width: 32px;\n",
              "    }\n",
              "\n",
              "    .colab-df-convert:hover {\n",
              "      background-color: #E2EBFA;\n",
              "      box-shadow: 0px 1px 2px rgba(60, 64, 67, 0.3), 0px 1px 3px 1px rgba(60, 64, 67, 0.15);\n",
              "      fill: #174EA6;\n",
              "    }\n",
              "\n",
              "    [theme=dark] .colab-df-convert {\n",
              "      background-color: #3B4455;\n",
              "      fill: #D2E3FC;\n",
              "    }\n",
              "\n",
              "    [theme=dark] .colab-df-convert:hover {\n",
              "      background-color: #434B5C;\n",
              "      box-shadow: 0px 1px 3px 1px rgba(0, 0, 0, 0.15);\n",
              "      filter: drop-shadow(0px 1px 2px rgba(0, 0, 0, 0.3));\n",
              "      fill: #FFFFFF;\n",
              "    }\n",
              "  </style>\n",
              "\n",
              "      <script>\n",
              "        const buttonEl =\n",
              "          document.querySelector('#df-0269194a-20fc-49d7-a34d-5c174e639824 button.colab-df-convert');\n",
              "        buttonEl.style.display =\n",
              "          google.colab.kernel.accessAllowed ? 'block' : 'none';\n",
              "\n",
              "        async function convertToInteractive(key) {\n",
              "          const element = document.querySelector('#df-0269194a-20fc-49d7-a34d-5c174e639824');\n",
              "          const dataTable =\n",
              "            await google.colab.kernel.invokeFunction('convertToInteractive',\n",
              "                                                     [key], {});\n",
              "          if (!dataTable) return;\n",
              "\n",
              "          const docLinkHtml = 'Like what you see? Visit the ' +\n",
              "            '<a target=\"_blank\" href=https://colab.research.google.com/notebooks/data_table.ipynb>data table notebook</a>'\n",
              "            + ' to learn more about interactive tables.';\n",
              "          element.innerHTML = '';\n",
              "          dataTable['output_type'] = 'display_data';\n",
              "          await google.colab.output.renderOutput(dataTable, element);\n",
              "          const docLink = document.createElement('div');\n",
              "          docLink.innerHTML = docLinkHtml;\n",
              "          element.appendChild(docLink);\n",
              "        }\n",
              "      </script>\n",
              "    </div>\n",
              "  </div>\n",
              "  "
            ]
          },
          "metadata": {},
          "execution_count": 6
        }
      ]
    },
    {
      "cell_type": "markdown",
      "source": [
        "## Definição do target\n",
        "A variavel \"Attrition_Flag\" é nosso target, onde verificamos 8500 clientes ativos e 1627 que evadiram, portanto nosso trabalho visa encontrar desses 8500 clientes, quais estão propensos a evadir.\n",
        "A principio vamos tratar esse problema como Classificação de uma variavel binária"
      ],
      "metadata": {
        "id": "Jz1LhkcbUTWj"
      }
    },
    {
      "cell_type": "code",
      "source": [
        "data[\"Attrition_Flag\"].value_counts()"
      ],
      "metadata": {
        "colab": {
          "base_uri": "https://localhost:8080/"
        },
        "id": "xgtG7eDllo-u",
        "outputId": "c6694441-7c5c-430d-c926-e297f5a8cade"
      },
      "execution_count": 7,
      "outputs": [
        {
          "output_type": "execute_result",
          "data": {
            "text/plain": [
              "Existing Customer    8500\n",
              "Attrited Customer    1627\n",
              "Name: Attrition_Flag, dtype: int64"
            ]
          },
          "metadata": {},
          "execution_count": 7
        }
      ]
    },
    {
      "cell_type": "code",
      "source": [
        "data.shape"
      ],
      "metadata": {
        "colab": {
          "base_uri": "https://localhost:8080/"
        },
        "id": "MwH-7wFcl1Sh",
        "outputId": "8c37e844-281b-4040-8083-7e05395bbbf8"
      },
      "execution_count": 8,
      "outputs": [
        {
          "output_type": "execute_result",
          "data": {
            "text/plain": [
              "(10127, 20)"
            ]
          },
          "metadata": {},
          "execution_count": 8
        }
      ]
    },
    {
      "cell_type": "code",
      "source": [
        "data['Attrition_Flag'].unique()"
      ],
      "metadata": {
        "colab": {
          "base_uri": "https://localhost:8080/"
        },
        "id": "MyA1lMZ71bTF",
        "outputId": "6c52f911-ab6b-490c-edd9-a2ce22e90fe7"
      },
      "execution_count": 9,
      "outputs": [
        {
          "output_type": "execute_result",
          "data": {
            "text/plain": [
              "array(['Existing Customer', 'Attrited Customer'], dtype=object)"
            ]
          },
          "metadata": {},
          "execution_count": 9
        }
      ]
    },
    {
      "cell_type": "code",
      "source": [
        "rename = {\n",
        "    'Existing Customer': 'True',\n",
        "    'Attrited Customer': 'False'\n",
        "}\n",
        "data[\"Attrition_Flag\"] = data[\"Attrition_Flag\"].map(rename)"
      ],
      "metadata": {
        "id": "Mup-hHNY5QTs"
      },
      "execution_count": 10,
      "outputs": []
    },
    {
      "cell_type": "markdown",
      "source": [
        "## Visualização para gerar insights \n",
        "- Selecionamos 4 variáveis para analise, onde iremos realizar visualizações e testes de hipoteses."
      ],
      "metadata": {
        "id": "9kpkSVc0qTFZ"
      }
    },
    {
      "cell_type": "code",
      "source": [
        "fig, ax =plt.subplots(1,2, figsize=(12, 7))\n",
        "sns.stripplot(x='Attrition_Flag', y='Customer_Age', data=data, ax=ax[0])\n",
        "sns.stripplot(x='Attrition_Flag', y='Credit_Limit', data=data, ax=ax[1])\n",
        "fig.show()"
      ],
      "metadata": {
        "colab": {
          "base_uri": "https://localhost:8080/",
          "height": 443
        },
        "id": "Zma5RFOG1tTO",
        "outputId": "02c28d22-2164-47ab-ca4a-13bb7fd4cc3b"
      },
      "execution_count": 11,
      "outputs": [
        {
          "output_type": "display_data",
          "data": {
            "text/plain": [
              "<Figure size 864x504 with 2 Axes>"
            ],
            "image/png": "[encoded data removed]"
          },
          "metadata": {
            "needs_background": "light"
          }
        }
      ]
    },
    {
      "cell_type": "code",
      "source": [
        "fig, ax =plt.subplots(1,2, figsize=(12, 7))\n",
        "\n",
        "sns.stripplot(x='Attrition_Flag', y='Total_Trans_Ct', data=data, ax=ax[0])\n",
        "sns.barplot(x=data['Card_Category'].value_counts().index, y=data['Card_Category'].value_counts(), ax=ax[1])\n",
        "\n",
        "fig.show()"
      ],
      "metadata": {
        "colab": {
          "base_uri": "https://localhost:8080/",
          "height": 443
        },
        "id": "Xtiylaa8Fm7c",
        "outputId": "df24552f-1fbb-4a54-9f30-5270f4106061"
      },
      "execution_count": 12,
      "outputs": [
        {
          "output_type": "display_data",
          "data": {
            "text/plain": [
              "<Figure size 864x504 with 2 Axes>"
            ],
            "image/png": "[encoded data removed]"
          },
          "metadata": {
            "needs_background": "light"
          }
        }
      ]
    },
    {
      "cell_type": "markdown",
      "source": [
        "### Idade dos clientes\n",
        "\n",
        "Visualmente a maior parte dos clientes que evadiram tem idade entre 30 a 60 anos, enquanto que tem termos de valor de limite a maior parte dos evadidos tinham limite entre 1000 a 15 mil. "
      ],
      "metadata": {
        "id": "nUBqZ-PpuU4N"
      }
    },
    {
      "cell_type": "code",
      "source": [
        "true_age = data.query(\"Attrition_Flag == 'True'\")['Customer_Age']\n",
        "false_age = data.query(\"Attrition_Flag == 'False'\")[\"Customer_Age\"]\n",
        "fig, ax =plt.subplots(1,2, figsize=(12, 7))\n",
        "\n",
        "sns.histplot(true_age, ax=ax[0])\n",
        "sns.histplot(false_age, ax=ax[1])\n",
        "fig.show()"
      ],
      "metadata": {
        "colab": {
          "base_uri": "https://localhost:8080/",
          "height": 447
        },
        "id": "5ZOF-zIr2zLO",
        "outputId": "adbb85e2-c91d-4566-b0da-0f51a957853b"
      },
      "execution_count": 13,
      "outputs": [
        {
          "output_type": "display_data",
          "data": {
            "text/plain": [
              "<Figure size 864x504 with 2 Axes>"
            ],
            "image/png": "[encoded data removed]"
          },
          "metadata": {
            "needs_background": "light"
          }
        }
      ]
    },
    {
      "cell_type": "markdown",
      "source": [
        "- Teste de hipotese\n",
        ">H<sup>0</sup>\n",
        "A distribuição de idade para os clientes que permanecem no banco e para os clientes que evadiram são iguais."
      ],
      "metadata": {
        "id": "d8_c-lKc2aSd"
      }
    },
    {
      "cell_type": "markdown",
      "source": [
        "- Teste de hipotese\n",
        ">H<sup>1</sup>\n",
        "A distribuição de idade para os clientes que permanecem no banco e para os clientes que evadiram NÃO são iguais."
      ],
      "metadata": {
        "id": "Jd-EX5Cf2cTO"
      }
    },
    {
      "cell_type": "code",
      "source": [
        "r =ranksums(true_age, false_age)\n",
        "print(f\"O valor de p-value é {r.pvalue}\")"
      ],
      "metadata": {
        "colab": {
          "base_uri": "https://localhost:8080/"
        },
        "id": "-mvzxOJw2nT4",
        "outputId": "09803dab-fcca-4442-df68-860e3635a719"
      },
      "execution_count": 14,
      "outputs": [
        {
          "output_type": "stream",
          "name": "stdout",
          "text": [
            "O valor de p-value é 0.07830659072580051\n"
          ]
        }
      ]
    },
    {
      "cell_type": "markdown",
      "source": [
        "- Visto que p-value > 0.05 então descartamos a hipotese H<sup>1</sup>. As distribuições são iguais."
      ],
      "metadata": {
        "id": "c4fMhPnE3O2k"
      }
    },
    {
      "cell_type": "markdown",
      "source": [
        "### Valor do limite"
      ],
      "metadata": {
        "id": "tHPqXAdK7yaS"
      }
    },
    {
      "cell_type": "code",
      "source": [
        "true_credit = data.query(\"Attrition_Flag == 'True'\")['Credit_Limit']\n",
        "false_credit = data.query(\"Attrition_Flag == 'False'\")[\"Credit_Limit\"]"
      ],
      "metadata": {
        "id": "s-hlyT8N2I0a"
      },
      "execution_count": 15,
      "outputs": []
    },
    {
      "cell_type": "code",
      "source": [
        "fig, ax =plt.subplots(1,2, figsize=(12, 7))\n",
        "\n",
        "sns.histplot(true_credit, ax=ax[0])\n",
        "sns.histplot(false_credit, ax=ax[1])\n",
        "fig.show()"
      ],
      "metadata": {
        "colab": {
          "base_uri": "https://localhost:8080/",
          "height": 443
        },
        "id": "N69aQIjD5yau",
        "outputId": "7b1072fb-41d2-49ef-9439-1faa0865f627"
      },
      "execution_count": 16,
      "outputs": [
        {
          "output_type": "display_data",
          "data": {
            "text/plain": [
              "<Figure size 864x504 with 2 Axes>"
            ],
            "image/png": "[encoded data removed]"
          },
          "metadata": {
            "needs_background": "light"
          }
        }
      ]
    },
    {
      "cell_type": "markdown",
      "source": [
        "- Teste de hipotese\n",
        "> H<sup>0</sup>\n",
        "A distribuiçãos de limite de crédito para os clientes que permanecem no banco e para os clientes que evadiram são iguais"
      ],
      "metadata": {
        "id": "54_hurJE1gyn"
      }
    },
    {
      "cell_type": "markdown",
      "source": [
        "- Teste de hipotese\n",
        ">H<sup>1</sup>\n",
        "A distribuição de limite de crédito para os clientes que permanecem no banco e para os clientes que evadiram NÃO são iguais"
      ],
      "metadata": {
        "id": "iQ7SdiqA11oT"
      }
    },
    {
      "cell_type": "code",
      "source": [
        "r =ranksums(true_credit, false_credit)\n",
        "print(f\"O valor de p-value é {r.pvalue}\")"
      ],
      "metadata": {
        "colab": {
          "base_uri": "https://localhost:8080/"
        },
        "id": "44FOYzqm5k0O",
        "outputId": "6aa7aa04-47cc-4fe0-b46c-f24b54e83be0"
      },
      "execution_count": 17,
      "outputs": [
        {
          "output_type": "stream",
          "name": "stdout",
          "text": [
            "O valor de p-value é 3.018075374341616e-07\n"
          ]
        }
      ]
    },
    {
      "cell_type": "markdown",
      "source": [
        "- Visto que p-value < 0.05 então descartamos a hipotese H<sup>0</sup>. As distribuições não são iguais."
      ],
      "metadata": {
        "id": "7Wfc13w-2IhU"
      }
    },
    {
      "cell_type": "markdown",
      "source": [
        "### Tipo de cartão"
      ],
      "metadata": {
        "id": "LXW5UmEd76B9"
      }
    },
    {
      "cell_type": "code",
      "source": [
        "true_type = data.query(\"Attrition_Flag == 'True'\")['Card_Category']\n",
        "false_type = data.query(\"Attrition_Flag == 'False'\")[\"Card_Category\"]"
      ],
      "metadata": {
        "id": "l_noWr6pNing"
      },
      "execution_count": 18,
      "outputs": []
    },
    {
      "cell_type": "code",
      "source": [
        "fig, ax =plt.subplots(1,2, figsize=(12, 7))\n",
        "\n",
        "sns.barplot(x=data['Card_Category'].value_counts().index, y=true_type.value_counts(), ax=ax[0])\n",
        "sns.barplot(x=data['Card_Category'].value_counts().index, y=false_type.value_counts(), ax=ax[1])\n",
        "fig.show()"
      ],
      "metadata": {
        "colab": {
          "base_uri": "https://localhost:8080/",
          "height": 428
        },
        "id": "tCPYC7Sc4vDF",
        "outputId": "2894ec4c-d590-422d-f4a4-a2e80ce3f003"
      },
      "execution_count": 19,
      "outputs": [
        {
          "output_type": "display_data",
          "data": {
            "text/plain": [
              "<Figure size 864x504 with 2 Axes>"
            ],
            "image/png": "[encoded data removed]"
          },
          "metadata": {
            "needs_background": "light"
          }
        }
      ]
    },
    {
      "cell_type": "markdown",
      "source": [
        "- Teste de hipotese\n",
        "> H<sup>0</sup>\n",
        "A distribuição do tipo de cartão para os clientes que permanecem no banco e para os clientes que evadiram são iguais"
      ],
      "metadata": {
        "id": "bdbm45Nm8CDE"
      }
    },
    {
      "cell_type": "markdown",
      "source": [
        "- Teste de hipotese\n",
        "> H<sup>1</sup>\n",
        "A distribuição do tipo de cartão para os clientes que permanecem no banco e para os clientes que evadiram Não são iguais"
      ],
      "metadata": {
        "id": "Gj7fa74N8C4Y"
      }
    },
    {
      "cell_type": "code",
      "source": [
        "r =ranksums(true_type, false_type)\n",
        "print(f\"O valor de p-value é {r.pvalue}\")"
      ],
      "metadata": {
        "colab": {
          "base_uri": "https://localhost:8080/"
        },
        "id": "cbG4jrkn7QBQ",
        "outputId": "3922c6e6-b058-4338-a5d9-88d14d7adc46"
      },
      "execution_count": 20,
      "outputs": [
        {
          "output_type": "stream",
          "name": "stdout",
          "text": [
            "O valor de p-value é 0.8762106624776538\n"
          ]
        }
      ]
    },
    {
      "cell_type": "markdown",
      "source": [
        "- Visto que p-value > 0.05 então descartamos a hipotese H<sup>1</sup>. As distribuições são iguais."
      ],
      "metadata": {
        "id": "ZRXf13mp8YZv"
      }
    },
    {
      "cell_type": "markdown",
      "source": [
        "###  Contagem total de transações realizadas"
      ],
      "metadata": {
        "id": "EQS5-oWn-Ty9"
      }
    },
    {
      "cell_type": "code",
      "source": [
        "true_trans = data.query(\"Attrition_Flag == 'True'\")['Total_Trans_Ct']\n",
        "false_trans = data.query(\"Attrition_Flag == 'False'\")[\"Total_Trans_Ct\"]\n",
        "\n",
        "fig, ax =plt.subplots(1,2, figsize=(12, 7))\n",
        "\n",
        "sns.histplot(true_trans, ax=ax[0])\n",
        "sns.histplot(false_trans, ax=ax[1])\n",
        "fig.show()"
      ],
      "metadata": {
        "colab": {
          "base_uri": "https://localhost:8080/",
          "height": 443
        },
        "id": "9IBBRvgM-ei7",
        "outputId": "d3f6a799-d107-4bd1-9042-57c9af601b44"
      },
      "execution_count": 21,
      "outputs": [
        {
          "output_type": "display_data",
          "data": {
            "text/plain": [
              "<Figure size 864x504 with 2 Axes>"
            ],
            "image/png": "[encoded data removed]"
          },
          "metadata": {
            "needs_background": "light"
          }
        }
      ]
    },
    {
      "cell_type": "markdown",
      "source": [
        "- Teste de hipotese\n",
        "> H<sup>0</sup>\n",
        "A distribuição do total de transações para os clientes que permanecem no banco e para os clientes que evadiram são iguais"
      ],
      "metadata": {
        "id": "1qYSk6Ev_p5J"
      }
    },
    {
      "cell_type": "markdown",
      "source": [
        "- Teste de hipotese\n",
        "> H<sup>1</sup>\n",
        "A distribuição do total de transações para os clientes que permanecem no banco e para os clientes que evadiram Não são iguais"
      ],
      "metadata": {
        "id": "EmCDJt-q_vbJ"
      }
    },
    {
      "cell_type": "code",
      "source": [
        "r =ranksums(true_trans, false_trans)\n",
        "print(f\"O valor de p-value é {r.pvalue}\")"
      ],
      "metadata": {
        "colab": {
          "base_uri": "https://localhost:8080/"
        },
        "id": "h6kRVkox-rDD",
        "outputId": "5073a7f9-5a3b-44ae-e3b7-1605a64941b3"
      },
      "execution_count": 22,
      "outputs": [
        {
          "output_type": "stream",
          "name": "stdout",
          "text": [
            "O valor de p-value é 0.0\n"
          ]
        }
      ]
    },
    {
      "cell_type": "markdown",
      "source": [
        "- Visto que p-value < 0.05 então descartamos a hipotese H<sup>0</sup>. As distribuições NÃO são iguais."
      ],
      "metadata": {
        "id": "7bfUfQav_8r4"
      }
    },
    {
      "cell_type": "markdown",
      "source": [
        "### Conclusão \n",
        "- Das quatro variáveis selecionadas para analise, duas apresentaram distribuição igual para os clientes que permanecem no banco e os clientes que evadiram e duas apresentaram distribuição diferentes.\n",
        "- As variáveis que apresentaram distribuição diferentes destacam um padrão comportamental diferente dos clientes que permanecem no banco, gerando uma otima oportunidade para usar esse padrão para estimar clientes propensos a evadir. Essas variáveis são \"Total_Trans_Ct\" e \"Credit_Limit\"."
      ],
      "metadata": {
        "id": "S21SFuMiAQ7O"
      }
    },
    {
      "cell_type": "markdown",
      "source": [
        "## Tratamento dos dados\n"
      ],
      "metadata": {
        "id": "0PbqQOWmDUTF"
      }
    },
    {
      "cell_type": "markdown",
      "source": [
        "### Normalização sem uso de bibliotecas"
      ],
      "metadata": {
        "id": "NXTXoKElMt2Q"
      }
    },
    {
      "cell_type": "markdown",
      "source": [
        "Observamos que a faixa do valor de limite é de 1438 a 34516, com média de 8631 e desvio padrão de 9088. a faixa da quantidade de transações é de 10 a 139, com média de 64 e desvio padrão de 23. Como a escala dos valores é muito diferente, para melhorar a qualidade dos dados é necessario normalizar esses valores.\n",
        "Inicialmente iremos realizar a normalização com métodos manuais, sem uso de bibliotecas que realizam essa atividade."
      ],
      "metadata": {
        "id": "4oWw88t8KMNq"
      }
    },
    {
      "cell_type": "code",
      "source": [
        "data['Credit_Limit'].describe()"
      ],
      "metadata": {
        "colab": {
          "base_uri": "https://localhost:8080/"
        },
        "id": "-xLVCMMp_jBQ",
        "outputId": "470eaef6-8e6f-4688-b11d-32874fab73ab"
      },
      "execution_count": 23,
      "outputs": [
        {
          "output_type": "execute_result",
          "data": {
            "text/plain": [
              "count    10127.000000\n",
              "mean      8631.953698\n",
              "std       9088.776650\n",
              "min       1438.300000\n",
              "25%       2555.000000\n",
              "50%       4549.000000\n",
              "75%      11067.500000\n",
              "max      34516.000000\n",
              "Name: Credit_Limit, dtype: float64"
            ]
          },
          "metadata": {},
          "execution_count": 23
        }
      ]
    },
    {
      "cell_type": "code",
      "source": [
        "data['Total_Trans_Ct'].describe()"
      ],
      "metadata": {
        "colab": {
          "base_uri": "https://localhost:8080/"
        },
        "id": "kVLsp-KMEb8J",
        "outputId": "2f0f822a-caa1-449b-f43f-23cab9a8fef4"
      },
      "execution_count": 24,
      "outputs": [
        {
          "output_type": "execute_result",
          "data": {
            "text/plain": [
              "count    10127.000000\n",
              "mean        64.858695\n",
              "std         23.472570\n",
              "min         10.000000\n",
              "25%         45.000000\n",
              "50%         67.000000\n",
              "75%         81.000000\n",
              "max        139.000000\n",
              "Name: Total_Trans_Ct, dtype: float64"
            ]
          },
          "metadata": {},
          "execution_count": 24
        }
      ]
    },
    {
      "cell_type": "markdown",
      "source": [
        "#### Valor do limite\n",
        "$$X_n = (X_n - mean) / std $$"
      ],
      "metadata": {
        "id": "kagtbxBbKE9_"
      }
    },
    {
      "cell_type": "code",
      "source": [
        "data['Credit_Limit_Manual_Norm'] = (data['Credit_Limit'] - data['Credit_Limit'].mean())/data['Credit_Limit'].std()\n",
        "data['Credit_Limit_Manual_Norm'].describe()"
      ],
      "metadata": {
        "colab": {
          "base_uri": "https://localhost:8080/"
        },
        "id": "F0wre35VE7o7",
        "outputId": "8cd38666-3ee3-4ea3-8c32-a0e8ba3fe866"
      },
      "execution_count": 25,
      "outputs": [
        {
          "output_type": "execute_result",
          "data": {
            "text/plain": [
              "count    1.012700e+04\n",
              "mean     1.089401e-14\n",
              "std      1.000000e+00\n",
              "min     -7.914876e-01\n",
              "25%     -6.686217e-01\n",
              "50%     -4.492303e-01\n",
              "75%      2.679730e-01\n",
              "max      2.847913e+00\n",
              "Name: Credit_Limit_Manual_Norm, dtype: float64"
            ]
          },
          "metadata": {},
          "execution_count": 25
        }
      ]
    },
    {
      "cell_type": "markdown",
      "source": [
        "No gráfico temos a plotagem do histograma da variável \"Credit_Limit\" antes e depois da normalização, onde podemos observar que a Normalização não afeta a distribuição, mudando apenas o alcance da variável que antes era de 0 a 35000 e agora ficou de -3 a 3."
      ],
      "metadata": {
        "id": "onSX_ZITJscE"
      }
    },
    {
      "cell_type": "code",
      "source": [
        "fig, ax =plt.subplots(1,2, figsize=(12, 7))\n",
        "\n",
        "sns.histplot(data[\"Credit_Limit\"], ax=ax[1])\n",
        "sns.histplot(data[\"Credit_Limit_Manual_Norm\"], ax=ax[0])\n",
        "\n",
        "fig.show()"
      ],
      "metadata": {
        "colab": {
          "base_uri": "https://localhost:8080/",
          "height": 443
        },
        "id": "WCDXFJDmJA3E",
        "outputId": "6a6d2c97-1ea4-4d0a-e256-31468fcee52e"
      },
      "execution_count": 26,
      "outputs": [
        {
          "output_type": "display_data",
          "data": {
            "text/plain": [
              "<Figure size 864x504 with 2 Axes>"
            ],
            "image/png": "[encoded data removed]"
          },
          "metadata": {
            "needs_background": "light"
          }
        }
      ]
    },
    {
      "cell_type": "markdown",
      "source": [
        "#### Contagem de transações\n",
        "$$X_n = (X_n - mean) / std $$"
      ],
      "metadata": {
        "id": "89yX9O1lOUkG"
      }
    },
    {
      "cell_type": "code",
      "source": [
        "data['Total_Trans_Ct_Manual_Norm'] = (data['Total_Trans_Ct'] - data['Total_Trans_Ct'].mean())/data['Total_Trans_Ct'].std()\n",
        "data['Total_Trans_Ct_Manual_Norm'].describe()"
      ],
      "metadata": {
        "colab": {
          "base_uri": "https://localhost:8080/"
        },
        "id": "Lk1xDv3xOFlu",
        "outputId": "f80c0182-ab49-45d3-9874-f3c2cb2a8ecd"
      },
      "execution_count": 27,
      "outputs": [
        {
          "output_type": "execute_result",
          "data": {
            "text/plain": [
              "count    1.012700e+04\n",
              "mean    -4.666785e-15\n",
              "std      1.000000e+00\n",
              "min     -2.337140e+00\n",
              "25%     -8.460383e-01\n",
              "50%      9.122586e-02\n",
              "75%      6.876667e-01\n",
              "max      3.158636e+00\n",
              "Name: Total_Trans_Ct_Manual_Norm, dtype: float64"
            ]
          },
          "metadata": {},
          "execution_count": 27
        }
      ]
    },
    {
      "cell_type": "markdown",
      "source": [
        "Semelhante ao que vimos na variável \"Credit_Limit\", a Normalização da variável \"Total_Trans_Ct\", altera apenas o alcance não alterando a distribuição. "
      ],
      "metadata": {
        "id": "MpK33A3HKep_"
      }
    },
    {
      "cell_type": "code",
      "source": [
        "fig, ax =plt.subplots(1,2, figsize=(12, 7))\n",
        "\n",
        "sns.histplot(data[\"Total_Trans_Ct\"], ax=ax[1])\n",
        "sns.histplot(data[\"Total_Trans_Ct_Manual_Norm\"], ax=ax[0])\n",
        "\n",
        "fig.show()"
      ],
      "metadata": {
        "colab": {
          "base_uri": "https://localhost:8080/",
          "height": 443
        },
        "id": "L0gjYzQBH6wB",
        "outputId": "615c4afe-7072-4ebe-d0d3-c49608779fcf"
      },
      "execution_count": 28,
      "outputs": [
        {
          "output_type": "display_data",
          "data": {
            "text/plain": [
              "<Figure size 864x504 with 2 Axes>"
            ],
            "image/png": "[encoded data removed]"
          },
          "metadata": {
            "needs_background": "light"
          }
        }
      ]
    },
    {
      "cell_type": "markdown",
      "source": [
        "### Normalização usando Normalizer do sklearn.preprocessing"
      ],
      "metadata": {
        "id": "drBHlHbN6arw"
      }
    },
    {
      "cell_type": "code",
      "source": [
        "from sklearn.preprocessing import Normalizer\n",
        "\n",
        "X = data[[\"Total_Trans_Ct\", \"Credit_Limit\"]]\n",
        "\n",
        "scaler = Normalizer().fit(X)\n",
        "normalized_X = scaler.transform(X)\n",
        "df_norm = pd.DataFrame(normalized_X)\n",
        "df_norm.rename(columns={0: 'Total_Trans_Ct', 1: 'Credit_Limit'}, inplace=True)\n",
        "df_norm.describe()"
      ],
      "metadata": {
        "colab": {
          "base_uri": "https://localhost:8080/",
          "height": 300
        },
        "id": "1t9iB7wIOcpF",
        "outputId": "3baa79f7-9fe2-4af8-d8b9-648b10cac3c3"
      },
      "execution_count": 29,
      "outputs": [
        {
          "output_type": "execute_result",
          "data": {
            "text/plain": [
              "       Total_Trans_Ct  Credit_Limit\n",
              "count    10127.000000  10127.000000\n",
              "mean         0.016766      0.999762\n",
              "std          0.013925      0.000352\n",
              "min          0.000348      0.997780\n",
              "25%          0.005261      0.999669\n",
              "50%          0.012459      0.999922\n",
              "75%          0.025738      0.999986\n",
              "max          0.066597      1.000000"
            ],
            "text/html": [
              "\n",
              "  <div id=\"df-799f25e7-bb98-49d5-a5d9-ec6ad4637c7f\">\n",
              "    <div class=\"colab-df-container\">\n",
              "      <div>\n",
              "<style scoped>\n",
              "    .dataframe tbody tr th:only-of-type {\n",
              "        vertical-align: middle;\n",
              "    }\n",
              "\n",
              "    .dataframe tbody tr th {\n",
              "        vertical-align: top;\n",
              "    }\n",
              "\n",
              "    .dataframe thead th {\n",
              "        text-align: right;\n",
              "    }\n",
              "</style>\n",
              "<table border=\"1\" class=\"dataframe\">\n",
              "  <thead>\n",
              "    <tr style=\"text-align: right;\">\n",
              "      <th></th>\n",
              "      <th>Total_Trans_Ct</th>\n",
              "      <th>Credit_Limit</th>\n",
              "    </tr>\n",
              "  </thead>\n",
              "  <tbody>\n",
              "    <tr>\n",
              "      <th>count</th>\n",
              "      <td>10127.000000</td>\n",
              "      <td>10127.000000</td>\n",
              "    </tr>\n",
              "    <tr>\n",
              "      <th>mean</th>\n",
              "      <td>0.016766</td>\n",
              "      <td>0.999762</td>\n",
              "    </tr>\n",
              "    <tr>\n",
              "      <th>std</th>\n",
              "      <td>0.013925</td>\n",
              "      <td>0.000352</td>\n",
              "    </tr>\n",
              "    <tr>\n",
              "      <th>min</th>\n",
              "      <td>0.000348</td>\n",
              "      <td>0.997780</td>\n",
              "    </tr>\n",
              "    <tr>\n",
              "      <th>25%</th>\n",
              "      <td>0.005261</td>\n",
              "      <td>0.999669</td>\n",
              "    </tr>\n",
              "    <tr>\n",
              "      <th>50%</th>\n",
              "      <td>0.012459</td>\n",
              "      <td>0.999922</td>\n",
              "    </tr>\n",
              "    <tr>\n",
              "      <th>75%</th>\n",
              "      <td>0.025738</td>\n",
              "      <td>0.999986</td>\n",
              "    </tr>\n",
              "    <tr>\n",
              "      <th>max</th>\n",
              "      <td>0.066597</td>\n",
              "      <td>1.000000</td>\n",
              "    </tr>\n",
              "  </tbody>\n",
              "</table>\n",
              "</div>\n",
              "      <button class=\"colab-df-convert\" onclick=\"convertToInteractive('df-799f25e7-bb98-49d5-a5d9-ec6ad4637c7f')\"\n",
              "              title=\"Convert this dataframe to an interactive table.\"\n",
              "              style=\"display:none;\">\n",
              "        \n",
              "  <svg xmlns=\"http://www.w3.org/2000/svg\" height=\"24px\"viewBox=\"0 0 24 24\"\n",
              "       width=\"24px\">\n",
              "    <path d=\"M0 0h24v24H0V0z\" fill=\"none\"/>\n",
              "    <path d=\"M18.56 5.44l.94 2.06.94-2.06 2.06-.94-2.06-.94-.94-2.06-.94 2.06-2.06.94zm-11 1L8.5 8.5l.94-2.06 2.06-.94-2.06-.94L8.5 2.5l-.94 2.06-2.06.94zm10 10l.94 2.06.94-2.06 2.06-.94-2.06-.94-.94-2.06-.94 2.06-2.06.94z\"/><path d=\"M17.41 7.96l-1.37-1.37c-.4-.4-.92-.59-1.43-.59-.52 0-1.04.2-1.43.59L10.3 9.45l-7.72 7.72c-.78.78-.78 2.05 0 2.83L4 21.41c.39.39.9.59 1.41.59.51 0 1.02-.2 1.41-.59l7.78-7.78 2.81-2.81c.8-.78.8-2.07 0-2.86zM5.41 20L4 18.59l7.72-7.72 1.47 1.35L5.41 20z\"/>\n",
              "  </svg>\n",
              "      </button>\n",
              "      \n",
              "  <style>\n",
              "    .colab-df-container {\n",
              "      display:flex;\n",
              "      flex-wrap:wrap;\n",
              "      gap: 12px;\n",
              "    }\n",
              "\n",
              "    .colab-df-convert {\n",
              "      background-color: #E8F0FE;\n",
              "      border: none;\n",
              "      border-radius: 50%;\n",
              "      cursor: pointer;\n",
              "      display: none;\n",
              "      fill: #1967D2;\n",
              "      height: 32px;\n",
              "      padding: 0 0 0 0;\n",
              "      width: 32px;\n",
              "    }\n",
              "\n",
              "    .colab-df-convert:hover {\n",
              "      background-color: #E2EBFA;\n",
              "      box-shadow: 0px 1px 2px rgba(60, 64, 67, 0.3), 0px 1px 3px 1px rgba(60, 64, 67, 0.15);\n",
              "      fill: #174EA6;\n",
              "    }\n",
              "\n",
              "    [theme=dark] .colab-df-convert {\n",
              "      background-color: #3B4455;\n",
              "      fill: #D2E3FC;\n",
              "    }\n",
              "\n",
              "    [theme=dark] .colab-df-convert:hover {\n",
              "      background-color: #434B5C;\n",
              "      box-shadow: 0px 1px 3px 1px rgba(0, 0, 0, 0.15);\n",
              "      filter: drop-shadow(0px 1px 2px rgba(0, 0, 0, 0.3));\n",
              "      fill: #FFFFFF;\n",
              "    }\n",
              "  </style>\n",
              "\n",
              "      <script>\n",
              "        const buttonEl =\n",
              "          document.querySelector('#df-799f25e7-bb98-49d5-a5d9-ec6ad4637c7f button.colab-df-convert');\n",
              "        buttonEl.style.display =\n",
              "          google.colab.kernel.accessAllowed ? 'block' : 'none';\n",
              "\n",
              "        async function convertToInteractive(key) {\n",
              "          const element = document.querySelector('#df-799f25e7-bb98-49d5-a5d9-ec6ad4637c7f');\n",
              "          const dataTable =\n",
              "            await google.colab.kernel.invokeFunction('convertToInteractive',\n",
              "                                                     [key], {});\n",
              "          if (!dataTable) return;\n",
              "\n",
              "          const docLinkHtml = 'Like what you see? Visit the ' +\n",
              "            '<a target=\"_blank\" href=https://colab.research.google.com/notebooks/data_table.ipynb>data table notebook</a>'\n",
              "            + ' to learn more about interactive tables.';\n",
              "          element.innerHTML = '';\n",
              "          dataTable['output_type'] = 'display_data';\n",
              "          await google.colab.output.renderOutput(dataTable, element);\n",
              "          const docLink = document.createElement('div');\n",
              "          docLink.innerHTML = docLinkHtml;\n",
              "          element.appendChild(docLink);\n",
              "        }\n",
              "      </script>\n",
              "    </div>\n",
              "  </div>\n",
              "  "
            ]
          },
          "metadata": {},
          "execution_count": 29
        }
      ]
    },
    {
      "cell_type": "markdown",
      "source": [
        "## Dividindo os dados em treino e teste"
      ],
      "metadata": {
        "id": "B9zgu1OK9_tU"
      }
    },
    {
      "cell_type": "markdown",
      "source": [
        "- Vamos prosseguir a analise utilizando os dados normalizados manualmente\n",
        "- Tendo em vista o problema de negócio, optamos por selecinar uma base de teste de 20% do banco de dados e validação com 80%. A ideia é identificar clientes com comportamento daqueles que evadiram, portando não buscamos uma alta eficácia do modelo e sim identificar clientes com padrões de evasão. Ou seja os clientes que forem selecionados pelo modelo porem permanecem no banco, devem ser abordados preventivamente para evitar a evasão."
      ],
      "metadata": {
        "id": "rJ8q3YcoHd0w"
      }
    },
    {
      "cell_type": "code",
      "source": [
        "from sklearn.model_selection import train_test_split\n",
        "\n",
        "rename = {\n",
        "    'True': 1,\n",
        "    'False': 0,\n",
        "}\n",
        "data[\"Attrition_Flag\"] = data[\"Attrition_Flag\"].map(rename)\n",
        "y = data['Attrition_Flag']\n",
        "X_norm = data[[\"Total_Trans_Ct_Manual_Norm\", \"Credit_Limit_Manual_Norm\"]]\n",
        "\n",
        "X_train, X_val, y_train, y_val = train_test_split(X_norm, y, random_state=0, stratify=y, train_size=0.20)"
      ],
      "metadata": {
        "id": "WXx6C_De-F3G"
      },
      "execution_count": 30,
      "outputs": []
    },
    {
      "cell_type": "markdown",
      "source": [
        "# Modelagem"
      ],
      "metadata": {
        "id": "ebYy-1AK68LN"
      }
    },
    {
      "cell_type": "markdown",
      "source": [
        "## Implementação manual de Regressão Logística"
      ],
      "metadata": {
        "id": "bifn-JfB7VzA"
      }
    },
    {
      "cell_type": "code",
      "source": [
        "class RegressaoLogistica:\n",
        "  def __init__(self, lr=0.001, n_iters=1000):\n",
        "    self.lr = lr\n",
        "    self.n_iters = n_iters\n",
        "    self.weights = None\n",
        "    self.bias = None\n",
        "\n",
        "  def fit(self, X, y):\n",
        "    # Iniciando os parametros\n",
        "    n_samples, n_features = X.shape\n",
        "    self.weights = np.zeros(n_features)\n",
        "    self.bias = 0\n",
        "\n",
        "    # Gradient Descent\n",
        "    for _ in range(self.n_iters):\n",
        "      linear_model = np.dot(X, self.weights) + self.bias\n",
        "      y_predicted = self._sigmoid(linear_model)\n",
        "\n",
        "      dw = (1 / n_samples) * np.dot(X.T, (y_predicted - y))\n",
        "      db = (1 / n_samples) * np.sum(y_predicted - y)\n",
        "\n",
        "      self.weights -= self.lr * dw\n",
        "      self.bias -= self.lr * db\n",
        "\n",
        "  def predict(self, X):\n",
        "    linear_model = np.dot(X, self.weights) + self.bias\n",
        "    y_predicted = self._sigmoid(linear_model)\n",
        "    y_predicted_cls = [1 if i > 0.5 else 0 for i in y_predicted]\n",
        "    return y_predicted_cls\n",
        "\n",
        "  def _sigmoid(self, x):\n",
        "    return 1 / (1 + np.exp(-x))"
      ],
      "metadata": {
        "id": "4y312YAc59-X"
      },
      "execution_count": 31,
      "outputs": []
    },
    {
      "cell_type": "markdown",
      "source": [
        "## Predições usando a implementação manual da Regressão Logística"
      ],
      "metadata": {
        "id": "PjDrbsHPFwKB"
      }
    },
    {
      "cell_type": "code",
      "source": [
        "rl = RegressaoLogistica()\n",
        "rl.fit(X_train, y_train)\n",
        "predicoes = rl.predict(X_val)\n",
        "\n",
        "def accuracy(y_val, y_pred):\n",
        "  accuracy = np.sum(y_val == y_pred)/ len(y_val)\n",
        "  return accuracy\n",
        "\n",
        "acc_manual = accuracy(y_val, predicoes)\n",
        "print(f\"Acurácia: {acc_manual:.2%}\")"
      ],
      "metadata": {
        "id": "16f3tFCEDsYY",
        "colab": {
          "base_uri": "https://localhost:8080/"
        },
        "outputId": "fb1ec636-5cbf-43bf-adb3-647be3b4e949"
      },
      "execution_count": 32,
      "outputs": [
        {
          "output_type": "stream",
          "name": "stdout",
          "text": [
            "Acurácia: 83.93%\n"
          ]
        }
      ]
    },
    {
      "cell_type": "markdown",
      "source": [
        "## Predições usando Regressão Logística da biblioteca Sklearn"
      ],
      "metadata": {
        "id": "iMt_VVWIOUx_"
      }
    },
    {
      "cell_type": "code",
      "source": [
        "from sklearn.linear_model import LogisticRegression\n",
        "\n",
        "lr = LogisticRegression(random_state=0, max_iter=1000)\n",
        "lr.fit(X_train, y_train)\n",
        "predicoes_sklearn = lr.predict(X_val)\n",
        "\n",
        "acc_sklearn = accuracy(y_val, predicoes_sklearn)\n",
        "print(f\"Acurácia: {acc_sklearn:.2%}\")"
      ],
      "metadata": {
        "colab": {
          "base_uri": "https://localhost:8080/"
        },
        "id": "3lZltbjwF7kZ",
        "outputId": "345f89db-0a0f-4d7c-aba2-4ed49d52b6a7"
      },
      "execution_count": 33,
      "outputs": [
        {
          "output_type": "stream",
          "name": "stdout",
          "text": [
            "Acurácia: 83.68%\n"
          ]
        }
      ]
    },
    {
      "cell_type": "markdown",
      "source": [
        "## Conclusão \n",
        "- Encontramos acurácias muito próximas para os dois modelos, porem a implantação manual apresentou uma acurácia ligeiramente melhor."
      ],
      "metadata": {
        "id": "rrzW-dOEPNFi"
      }
    },
    {
      "cell_type": "markdown",
      "source": [
        "# Conclusão final"
      ],
      "metadata": {
        "id": "AYZ3J6VUPlms"
      }
    },
    {
      "cell_type": "code",
      "source": [
        "data['Attrition_Flag'].value_counts()"
      ],
      "metadata": {
        "colab": {
          "base_uri": "https://localhost:8080/"
        },
        "id": "Q62AiWrNh4u7",
        "outputId": "4f0392e8-6c8e-4f45-8278-ccf1ff6d1d4f"
      },
      "execution_count": 34,
      "outputs": [
        {
          "output_type": "execute_result",
          "data": {
            "text/plain": [
              "1    8500\n",
              "0    1627\n",
              "Name: Attrition_Flag, dtype: int64"
            ]
          },
          "metadata": {},
          "execution_count": 34
        }
      ]
    },
    {
      "cell_type": "code",
      "source": [
        "from collections import Counter\n",
        "\n",
        "Counter(predicoes_sklearn)"
      ],
      "metadata": {
        "colab": {
          "base_uri": "https://localhost:8080/"
        },
        "id": "6XFWsgb_WUIJ",
        "outputId": "427809b5-5a08-4310-dee4-eb5a0db1a62f"
      },
      "execution_count": 35,
      "outputs": [
        {
          "output_type": "execute_result",
          "data": {
            "text/plain": [
              "Counter({0: 210, 1: 7892})"
            ]
          },
          "metadata": {},
          "execution_count": 35
        }
      ]
    },
    {
      "cell_type": "markdown",
      "source": [
        "Inicialmente tinhamos 10127 clientes dos quais 1627 evadiram e 8500 permaneceram. De acordo com nosso modelo de regressão logística há 210 clientes com mesmo perfil que os clientes que evadiram, portanto esses clientes devem ser abordados preventivamente para garantir a retenção."
      ],
      "metadata": {
        "id": "e4uXs5VNihvg"
      }
    },
    {
      "cell_type": "code",
      "source": [
        "pred = pd.DataFrame(predicoes_sklearn)\n",
        "pred.set_index(X_val.index, inplace=True)"
      ],
      "metadata": {
        "id": "VuVwEpWUXBjU"
      },
      "execution_count": 36,
      "outputs": []
    },
    {
      "cell_type": "code",
      "source": [
        "pred = pred.rename(columns = {0: 'Pred'}, inplace = False)\n"
      ],
      "metadata": {
        "id": "1DvJEWo5jQx8"
      },
      "execution_count": 37,
      "outputs": []
    },
    {
      "cell_type": "code",
      "source": [
        "client_id_list = pred.query('Pred == 0').index.values\n",
        "client_id_list_df = pd.DataFrame(client_id_list)"
      ],
      "metadata": {
        "id": "WcmogpYRk4KF"
      },
      "execution_count": 38,
      "outputs": []
    },
    {
      "cell_type": "markdown",
      "source": [
        "## Geramos um arquivo excel com a relação de ID dos clientes que devem ser abordados para evitar evasão."
      ],
      "metadata": {
        "id": "E41aBM4ZnDre"
      }
    },
    {
      "cell_type": "code",
      "source": [
        "client_id_list_df.to_excel(\"client_id_list.xlsx\")"
      ],
      "metadata": {
        "id": "M6huWOEDk_k6"
      },
      "execution_count": 39,
      "outputs": []
    }
  ]
}